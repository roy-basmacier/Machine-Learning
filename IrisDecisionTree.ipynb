{
  "nbformat": 4,
  "nbformat_minor": 0,
  "metadata": {
    "colab": {
      "name": "IrisDecisionTree.ipynb",
      "version": "0.3.2",
      "provenance": [],
      "collapsed_sections": [],
      "toc_visible": true
    },
    "kernelspec": {
      "name": "python3",
      "display_name": "Python 3"
    }
  },
  "cells": [
    {
      "metadata": {
        "id": "C8C09pdYZoZw",
        "colab_type": "text"
      },
      "cell_type": "markdown",
      "source": [
        "Importing necessary tools"
      ]
    },
    {
      "metadata": {
        "id": "kA22sa4B_6Lx",
        "colab_type": "code",
        "colab": {}
      },
      "cell_type": "code",
      "source": [
        "import numpy as np\n",
        "from sklearn.model_selection import train_test_split\n",
        "from sklearn.datasets import load_iris\n",
        "from sklearn.tree import DecisionTreeClassifier"
      ],
      "execution_count": 0,
      "outputs": []
    },
    {
      "metadata": {
        "id": "v0Y8Zl58Z2WR",
        "colab_type": "text"
      },
      "cell_type": "markdown",
      "source": [
        "Loading data into *iris*"
      ]
    },
    {
      "metadata": {
        "id": "LwOXREZnCK4Z",
        "colab_type": "code",
        "colab": {}
      },
      "cell_type": "code",
      "source": [
        "iris = load_iris()"
      ],
      "execution_count": 0,
      "outputs": []
    },
    {
      "metadata": {
        "id": "9aRdYZ-8CV7e",
        "colab_type": "code",
        "colab": {
          "base_uri": "https://localhost:8080/",
          "height": 2808
        },
        "outputId": "bd1900a0-329c-4c37-a168-1ff174a07f07"
      },
      "cell_type": "code",
      "source": [
        "iris"
      ],
      "execution_count": 22,
      "outputs": [
        {
          "output_type": "execute_result",
          "data": {
            "text/plain": [
              "{'DESCR': 'Iris Plants Database\\n====================\\n\\nNotes\\n-----\\nData Set Characteristics:\\n    :Number of Instances: 150 (50 in each of three classes)\\n    :Number of Attributes: 4 numeric, predictive attributes and the class\\n    :Attribute Information:\\n        - sepal length in cm\\n        - sepal width in cm\\n        - petal length in cm\\n        - petal width in cm\\n        - class:\\n                - Iris-Setosa\\n                - Iris-Versicolour\\n                - Iris-Virginica\\n    :Summary Statistics:\\n\\n    ============== ==== ==== ======= ===== ====================\\n                    Min  Max   Mean    SD   Class Correlation\\n    ============== ==== ==== ======= ===== ====================\\n    sepal length:   4.3  7.9   5.84   0.83    0.7826\\n    sepal width:    2.0  4.4   3.05   0.43   -0.4194\\n    petal length:   1.0  6.9   3.76   1.76    0.9490  (high!)\\n    petal width:    0.1  2.5   1.20  0.76     0.9565  (high!)\\n    ============== ==== ==== ======= ===== ====================\\n\\n    :Missing Attribute Values: None\\n    :Class Distribution: 33.3% for each of 3 classes.\\n    :Creator: R.A. Fisher\\n    :Donor: Michael Marshall (MARSHALL%PLU@io.arc.nasa.gov)\\n    :Date: July, 1988\\n\\nThis is a copy of UCI ML iris datasets.\\nhttp://archive.ics.uci.edu/ml/datasets/Iris\\n\\nThe famous Iris database, first used by Sir R.A Fisher\\n\\nThis is perhaps the best known database to be found in the\\npattern recognition literature.  Fisher\\'s paper is a classic in the field and\\nis referenced frequently to this day.  (See Duda & Hart, for example.)  The\\ndata set contains 3 classes of 50 instances each, where each class refers to a\\ntype of iris plant.  One class is linearly separable from the other 2; the\\nlatter are NOT linearly separable from each other.\\n\\nReferences\\n----------\\n   - Fisher,R.A. \"The use of multiple measurements in taxonomic problems\"\\n     Annual Eugenics, 7, Part II, 179-188 (1936); also in \"Contributions to\\n     Mathematical Statistics\" (John Wiley, NY, 1950).\\n   - Duda,R.O., & Hart,P.E. (1973) Pattern Classification and Scene Analysis.\\n     (Q327.D83) John Wiley & Sons.  ISBN 0-471-22361-1.  See page 218.\\n   - Dasarathy, B.V. (1980) \"Nosing Around the Neighborhood: A New System\\n     Structure and Classification Rule for Recognition in Partially Exposed\\n     Environments\".  IEEE Transactions on Pattern Analysis and Machine\\n     Intelligence, Vol. PAMI-2, No. 1, 67-71.\\n   - Gates, G.W. (1972) \"The Reduced Nearest Neighbor Rule\".  IEEE Transactions\\n     on Information Theory, May 1972, 431-433.\\n   - See also: 1988 MLC Proceedings, 54-64.  Cheeseman et al\"s AUTOCLASS II\\n     conceptual clustering system finds 3 classes in the data.\\n   - Many, many more ...\\n',\n",
              " 'data': array([[5.1, 3.5, 1.4, 0.2],\n",
              "        [4.9, 3. , 1.4, 0.2],\n",
              "        [4.7, 3.2, 1.3, 0.2],\n",
              "        [4.6, 3.1, 1.5, 0.2],\n",
              "        [5. , 3.6, 1.4, 0.2],\n",
              "        [5.4, 3.9, 1.7, 0.4],\n",
              "        [4.6, 3.4, 1.4, 0.3],\n",
              "        [5. , 3.4, 1.5, 0.2],\n",
              "        [4.4, 2.9, 1.4, 0.2],\n",
              "        [4.9, 3.1, 1.5, 0.1],\n",
              "        [5.4, 3.7, 1.5, 0.2],\n",
              "        [4.8, 3.4, 1.6, 0.2],\n",
              "        [4.8, 3. , 1.4, 0.1],\n",
              "        [4.3, 3. , 1.1, 0.1],\n",
              "        [5.8, 4. , 1.2, 0.2],\n",
              "        [5.7, 4.4, 1.5, 0.4],\n",
              "        [5.4, 3.9, 1.3, 0.4],\n",
              "        [5.1, 3.5, 1.4, 0.3],\n",
              "        [5.7, 3.8, 1.7, 0.3],\n",
              "        [5.1, 3.8, 1.5, 0.3],\n",
              "        [5.4, 3.4, 1.7, 0.2],\n",
              "        [5.1, 3.7, 1.5, 0.4],\n",
              "        [4.6, 3.6, 1. , 0.2],\n",
              "        [5.1, 3.3, 1.7, 0.5],\n",
              "        [4.8, 3.4, 1.9, 0.2],\n",
              "        [5. , 3. , 1.6, 0.2],\n",
              "        [5. , 3.4, 1.6, 0.4],\n",
              "        [5.2, 3.5, 1.5, 0.2],\n",
              "        [5.2, 3.4, 1.4, 0.2],\n",
              "        [4.7, 3.2, 1.6, 0.2],\n",
              "        [4.8, 3.1, 1.6, 0.2],\n",
              "        [5.4, 3.4, 1.5, 0.4],\n",
              "        [5.2, 4.1, 1.5, 0.1],\n",
              "        [5.5, 4.2, 1.4, 0.2],\n",
              "        [4.9, 3.1, 1.5, 0.1],\n",
              "        [5. , 3.2, 1.2, 0.2],\n",
              "        [5.5, 3.5, 1.3, 0.2],\n",
              "        [4.9, 3.1, 1.5, 0.1],\n",
              "        [4.4, 3. , 1.3, 0.2],\n",
              "        [5.1, 3.4, 1.5, 0.2],\n",
              "        [5. , 3.5, 1.3, 0.3],\n",
              "        [4.5, 2.3, 1.3, 0.3],\n",
              "        [4.4, 3.2, 1.3, 0.2],\n",
              "        [5. , 3.5, 1.6, 0.6],\n",
              "        [5.1, 3.8, 1.9, 0.4],\n",
              "        [4.8, 3. , 1.4, 0.3],\n",
              "        [5.1, 3.8, 1.6, 0.2],\n",
              "        [4.6, 3.2, 1.4, 0.2],\n",
              "        [5.3, 3.7, 1.5, 0.2],\n",
              "        [5. , 3.3, 1.4, 0.2],\n",
              "        [7. , 3.2, 4.7, 1.4],\n",
              "        [6.4, 3.2, 4.5, 1.5],\n",
              "        [6.9, 3.1, 4.9, 1.5],\n",
              "        [5.5, 2.3, 4. , 1.3],\n",
              "        [6.5, 2.8, 4.6, 1.5],\n",
              "        [5.7, 2.8, 4.5, 1.3],\n",
              "        [6.3, 3.3, 4.7, 1.6],\n",
              "        [4.9, 2.4, 3.3, 1. ],\n",
              "        [6.6, 2.9, 4.6, 1.3],\n",
              "        [5.2, 2.7, 3.9, 1.4],\n",
              "        [5. , 2. , 3.5, 1. ],\n",
              "        [5.9, 3. , 4.2, 1.5],\n",
              "        [6. , 2.2, 4. , 1. ],\n",
              "        [6.1, 2.9, 4.7, 1.4],\n",
              "        [5.6, 2.9, 3.6, 1.3],\n",
              "        [6.7, 3.1, 4.4, 1.4],\n",
              "        [5.6, 3. , 4.5, 1.5],\n",
              "        [5.8, 2.7, 4.1, 1. ],\n",
              "        [6.2, 2.2, 4.5, 1.5],\n",
              "        [5.6, 2.5, 3.9, 1.1],\n",
              "        [5.9, 3.2, 4.8, 1.8],\n",
              "        [6.1, 2.8, 4. , 1.3],\n",
              "        [6.3, 2.5, 4.9, 1.5],\n",
              "        [6.1, 2.8, 4.7, 1.2],\n",
              "        [6.4, 2.9, 4.3, 1.3],\n",
              "        [6.6, 3. , 4.4, 1.4],\n",
              "        [6.8, 2.8, 4.8, 1.4],\n",
              "        [6.7, 3. , 5. , 1.7],\n",
              "        [6. , 2.9, 4.5, 1.5],\n",
              "        [5.7, 2.6, 3.5, 1. ],\n",
              "        [5.5, 2.4, 3.8, 1.1],\n",
              "        [5.5, 2.4, 3.7, 1. ],\n",
              "        [5.8, 2.7, 3.9, 1.2],\n",
              "        [6. , 2.7, 5.1, 1.6],\n",
              "        [5.4, 3. , 4.5, 1.5],\n",
              "        [6. , 3.4, 4.5, 1.6],\n",
              "        [6.7, 3.1, 4.7, 1.5],\n",
              "        [6.3, 2.3, 4.4, 1.3],\n",
              "        [5.6, 3. , 4.1, 1.3],\n",
              "        [5.5, 2.5, 4. , 1.3],\n",
              "        [5.5, 2.6, 4.4, 1.2],\n",
              "        [6.1, 3. , 4.6, 1.4],\n",
              "        [5.8, 2.6, 4. , 1.2],\n",
              "        [5. , 2.3, 3.3, 1. ],\n",
              "        [5.6, 2.7, 4.2, 1.3],\n",
              "        [5.7, 3. , 4.2, 1.2],\n",
              "        [5.7, 2.9, 4.2, 1.3],\n",
              "        [6.2, 2.9, 4.3, 1.3],\n",
              "        [5.1, 2.5, 3. , 1.1],\n",
              "        [5.7, 2.8, 4.1, 1.3],\n",
              "        [6.3, 3.3, 6. , 2.5],\n",
              "        [5.8, 2.7, 5.1, 1.9],\n",
              "        [7.1, 3. , 5.9, 2.1],\n",
              "        [6.3, 2.9, 5.6, 1.8],\n",
              "        [6.5, 3. , 5.8, 2.2],\n",
              "        [7.6, 3. , 6.6, 2.1],\n",
              "        [4.9, 2.5, 4.5, 1.7],\n",
              "        [7.3, 2.9, 6.3, 1.8],\n",
              "        [6.7, 2.5, 5.8, 1.8],\n",
              "        [7.2, 3.6, 6.1, 2.5],\n",
              "        [6.5, 3.2, 5.1, 2. ],\n",
              "        [6.4, 2.7, 5.3, 1.9],\n",
              "        [6.8, 3. , 5.5, 2.1],\n",
              "        [5.7, 2.5, 5. , 2. ],\n",
              "        [5.8, 2.8, 5.1, 2.4],\n",
              "        [6.4, 3.2, 5.3, 2.3],\n",
              "        [6.5, 3. , 5.5, 1.8],\n",
              "        [7.7, 3.8, 6.7, 2.2],\n",
              "        [7.7, 2.6, 6.9, 2.3],\n",
              "        [6. , 2.2, 5. , 1.5],\n",
              "        [6.9, 3.2, 5.7, 2.3],\n",
              "        [5.6, 2.8, 4.9, 2. ],\n",
              "        [7.7, 2.8, 6.7, 2. ],\n",
              "        [6.3, 2.7, 4.9, 1.8],\n",
              "        [6.7, 3.3, 5.7, 2.1],\n",
              "        [7.2, 3.2, 6. , 1.8],\n",
              "        [6.2, 2.8, 4.8, 1.8],\n",
              "        [6.1, 3. , 4.9, 1.8],\n",
              "        [6.4, 2.8, 5.6, 2.1],\n",
              "        [7.2, 3. , 5.8, 1.6],\n",
              "        [7.4, 2.8, 6.1, 1.9],\n",
              "        [7.9, 3.8, 6.4, 2. ],\n",
              "        [6.4, 2.8, 5.6, 2.2],\n",
              "        [6.3, 2.8, 5.1, 1.5],\n",
              "        [6.1, 2.6, 5.6, 1.4],\n",
              "        [7.7, 3. , 6.1, 2.3],\n",
              "        [6.3, 3.4, 5.6, 2.4],\n",
              "        [6.4, 3.1, 5.5, 1.8],\n",
              "        [6. , 3. , 4.8, 1.8],\n",
              "        [6.9, 3.1, 5.4, 2.1],\n",
              "        [6.7, 3.1, 5.6, 2.4],\n",
              "        [6.9, 3.1, 5.1, 2.3],\n",
              "        [5.8, 2.7, 5.1, 1.9],\n",
              "        [6.8, 3.2, 5.9, 2.3],\n",
              "        [6.7, 3.3, 5.7, 2.5],\n",
              "        [6.7, 3. , 5.2, 2.3],\n",
              "        [6.3, 2.5, 5. , 1.9],\n",
              "        [6.5, 3. , 5.2, 2. ],\n",
              "        [6.2, 3.4, 5.4, 2.3],\n",
              "        [5.9, 3. , 5.1, 1.8]]),\n",
              " 'feature_names': ['sepal length (cm)',\n",
              "  'sepal width (cm)',\n",
              "  'petal length (cm)',\n",
              "  'petal width (cm)'],\n",
              " 'target': array([0, 0, 0, 0, 0, 0, 0, 0, 0, 0, 0, 0, 0, 0, 0, 0, 0, 0, 0, 0, 0, 0,\n",
              "        0, 0, 0, 0, 0, 0, 0, 0, 0, 0, 0, 0, 0, 0, 0, 0, 0, 0, 0, 0, 0, 0,\n",
              "        0, 0, 0, 0, 0, 0, 1, 1, 1, 1, 1, 1, 1, 1, 1, 1, 1, 1, 1, 1, 1, 1,\n",
              "        1, 1, 1, 1, 1, 1, 1, 1, 1, 1, 1, 1, 1, 1, 1, 1, 1, 1, 1, 1, 1, 1,\n",
              "        1, 1, 1, 1, 1, 1, 1, 1, 1, 1, 1, 1, 2, 2, 2, 2, 2, 2, 2, 2, 2, 2,\n",
              "        2, 2, 2, 2, 2, 2, 2, 2, 2, 2, 2, 2, 2, 2, 2, 2, 2, 2, 2, 2, 2, 2,\n",
              "        2, 2, 2, 2, 2, 2, 2, 2, 2, 2, 2, 2, 2, 2, 2, 2, 2, 2]),\n",
              " 'target_names': array(['setosa', 'versicolor', 'virginica'], dtype='<U10')}"
            ]
          },
          "metadata": {
            "tags": []
          },
          "execution_count": 22
        }
      ]
    },
    {
      "metadata": {
        "id": "H_E4xsz2Ctdd",
        "colab_type": "text"
      },
      "cell_type": "markdown",
      "source": [
        "x is the data\n",
        "\n",
        "y is the answers I wanted prediction"
      ]
    },
    {
      "metadata": {
        "id": "w3TZY_xKCY4w",
        "colab_type": "code",
        "colab": {}
      },
      "cell_type": "code",
      "source": [
        "x = iris.data\n",
        "y = iris.target"
      ],
      "execution_count": 0,
      "outputs": []
    },
    {
      "metadata": {
        "id": "Fwlg3OcTDLgM",
        "colab_type": "code",
        "colab": {
          "base_uri": "https://localhost:8080/",
          "height": 51
        },
        "outputId": "091987fa-4cfc-49df-e281-958e1631621a"
      },
      "cell_type": "code",
      "source": [
        "print('x size is', x.shape)\n",
        "print('y size is', y.shape)"
      ],
      "execution_count": 24,
      "outputs": [
        {
          "output_type": "stream",
          "text": [
            "x size is (150, 4)\n",
            "y size is (150,)\n"
          ],
          "name": "stdout"
        }
      ]
    },
    {
      "metadata": {
        "id": "K4gSilPhaOTS",
        "colab_type": "text"
      },
      "cell_type": "markdown",
      "source": [
        "Spliting the traing data and the testing data"
      ]
    },
    {
      "metadata": {
        "id": "XhMpWfwiCduR",
        "colab_type": "code",
        "colab": {}
      },
      "cell_type": "code",
      "source": [
        "x_train, x_test, y_train, y_test = train_test_split(x, y, random_state=0)"
      ],
      "execution_count": 0,
      "outputs": []
    },
    {
      "metadata": {
        "id": "S1wSaMwWCdxA",
        "colab_type": "code",
        "colab": {
          "base_uri": "https://localhost:8080/",
          "height": 51
        },
        "outputId": "0d3c96f4-1bf8-4068-8725-3e93dd316a48"
      },
      "cell_type": "code",
      "source": [
        "print('x_train size is', x_train.shape)\n",
        "print('x_test  size is', x_test.shape)"
      ],
      "execution_count": 26,
      "outputs": [
        {
          "output_type": "stream",
          "text": [
            "x_train size is (112, 4)\n",
            "x_test  size is (38, 4)\n"
          ],
          "name": "stdout"
        }
      ]
    },
    {
      "metadata": {
        "id": "nxLajRX_aU9m",
        "colab_type": "text"
      },
      "cell_type": "markdown",
      "source": [
        "Creating a model with max decision depth 2.\n",
        "\n",
        "Increasing the *max_depth* will make the model better but too much and it will start to memorize the training data causing it to overfit."
      ]
    },
    {
      "metadata": {
        "id": "Q6dV6OVDCdzt",
        "colab_type": "code",
        "colab": {}
      },
      "cell_type": "code",
      "source": [
        "estimator = DecisionTreeClassifier(max_depth=2)"
      ],
      "execution_count": 0,
      "outputs": []
    },
    {
      "metadata": {
        "id": "5BCcQqodDvFH",
        "colab_type": "code",
        "colab": {
          "base_uri": "https://localhost:8080/",
          "height": 119
        },
        "outputId": "b7b9a831-d3f3-492b-94be-51f742d3a789"
      },
      "cell_type": "code",
      "source": [
        "estimator"
      ],
      "execution_count": 28,
      "outputs": [
        {
          "output_type": "execute_result",
          "data": {
            "text/plain": [
              "DecisionTreeClassifier(class_weight=None, criterion='gini', max_depth=2,\n",
              "            max_features=None, max_leaf_nodes=None,\n",
              "            min_impurity_decrease=0.0, min_impurity_split=None,\n",
              "            min_samples_leaf=1, min_samples_split=2,\n",
              "            min_weight_fraction_leaf=0.0, presort=False, random_state=None,\n",
              "            splitter='best')"
            ]
          },
          "metadata": {
            "tags": []
          },
          "execution_count": 28
        }
      ]
    },
    {
      "metadata": {
        "id": "H3IZW1LJbSAS",
        "colab_type": "text"
      },
      "cell_type": "markdown",
      "source": [
        "Training the model, letting it generalize the given data."
      ]
    },
    {
      "metadata": {
        "id": "JKZorjW0D2R9",
        "colab_type": "code",
        "colab": {
          "base_uri": "https://localhost:8080/",
          "height": 119
        },
        "outputId": "51586aec-3ce5-4192-de81-f9b4d7cd0efb"
      },
      "cell_type": "code",
      "source": [
        "estimator.fit(x_train, y_train)"
      ],
      "execution_count": 29,
      "outputs": [
        {
          "output_type": "execute_result",
          "data": {
            "text/plain": [
              "DecisionTreeClassifier(class_weight=None, criterion='gini', max_depth=2,\n",
              "            max_features=None, max_leaf_nodes=None,\n",
              "            min_impurity_decrease=0.0, min_impurity_split=None,\n",
              "            min_samples_leaf=1, min_samples_split=2,\n",
              "            min_weight_fraction_leaf=0.0, presort=False, random_state=None,\n",
              "            splitter='best')"
            ]
          },
          "metadata": {
            "tags": []
          },
          "execution_count": 29
        }
      ]
    },
    {
      "metadata": {
        "id": "2gPJ0DAAcKdv",
        "colab_type": "text"
      },
      "cell_type": "markdown",
      "source": [
        "After training the model, we will use it on the test data which we splited previously"
      ]
    },
    {
      "metadata": {
        "id": "SgwLQuVeD2ZE",
        "colab_type": "code",
        "colab": {}
      },
      "cell_type": "code",
      "source": [
        "y_predict = estimator.predict(x_test)"
      ],
      "execution_count": 0,
      "outputs": []
    },
    {
      "metadata": {
        "id": "MGo9QlL4D2eo",
        "colab_type": "code",
        "colab": {
          "base_uri": "https://localhost:8080/",
          "height": 85
        },
        "outputId": "32a65a52-14ef-495e-b4a7-a0ace3d3b369"
      },
      "cell_type": "code",
      "source": [
        "y_predict, y_test"
      ],
      "execution_count": 31,
      "outputs": [
        {
          "output_type": "execute_result",
          "data": {
            "text/plain": [
              "(array([2, 1, 0, 2, 0, 2, 0, 1, 1, 1, 2, 1, 1, 1, 1, 0, 1, 1, 0, 0, 1, 1,\n",
              "        0, 0, 1, 0, 0, 1, 1, 0, 2, 1, 0, 1, 2, 1, 0, 2]),\n",
              " array([2, 1, 0, 2, 0, 2, 0, 1, 1, 1, 2, 1, 1, 1, 1, 0, 1, 1, 0, 0, 2, 1,\n",
              "        0, 0, 2, 0, 0, 1, 1, 0, 2, 1, 0, 2, 2, 1, 0, 1]))"
            ]
          },
          "metadata": {
            "tags": []
          },
          "execution_count": 31
        }
      ]
    },
    {
      "metadata": {
        "id": "XISIGwMkD2iI",
        "colab_type": "code",
        "colab": {
          "base_uri": "https://localhost:8080/",
          "height": 34
        },
        "outputId": "2498afd5-ae41-44ad-f4c7-738eac9a784c"
      },
      "cell_type": "code",
      "source": [
        "correct_labels = sum(y_predict == y_test)\n",
        "correct_labels"
      ],
      "execution_count": 32,
      "outputs": [
        {
          "output_type": "execute_result",
          "data": {
            "text/plain": [
              "34"
            ]
          },
          "metadata": {
            "tags": []
          },
          "execution_count": 32
        }
      ]
    },
    {
      "metadata": {
        "id": "TvuJBcIzD2wb",
        "colab_type": "code",
        "colab": {
          "base_uri": "https://localhost:8080/",
          "height": 34
        },
        "outputId": "ea4dd6c2-95ee-444e-c0fa-239c48a79be4"
      },
      "cell_type": "code",
      "source": [
        "len(y_predict)"
      ],
      "execution_count": 33,
      "outputs": [
        {
          "output_type": "execute_result",
          "data": {
            "text/plain": [
              "38"
            ]
          },
          "metadata": {
            "tags": []
          },
          "execution_count": 33
        }
      ]
    },
    {
      "metadata": {
        "id": "xje8TkK0D2cO",
        "colab_type": "code",
        "colab": {
          "base_uri": "https://localhost:8080/",
          "height": 34
        },
        "outputId": "5df163cb-3df6-450c-e42e-9954f839b67a"
      },
      "cell_type": "code",
      "source": [
        "print('Accuracy:', correct_labels/len(y_predict))"
      ],
      "execution_count": 34,
      "outputs": [
        {
          "output_type": "stream",
          "text": [
            "Accuracy: 0.8947368421052632\n"
          ],
          "name": "stdout"
        }
      ]
    },
    {
      "metadata": {
        "id": "KGAxt4Zoc74b",
        "colab_type": "text"
      },
      "cell_type": "markdown",
      "source": [
        "Accuracy is 89% but this can be better by increasing the *max_depth* parameter"
      ]
    },
    {
      "metadata": {
        "id": "Rr-qyhQmdIZz",
        "colab_type": "text"
      },
      "cell_type": "markdown",
      "source": [
        "Using graphviz to visualize the tree graph our model made"
      ]
    },
    {
      "metadata": {
        "id": "uTD_5JfwEoWR",
        "colab_type": "code",
        "colab": {}
      },
      "cell_type": "code",
      "source": [
        "from sklearn.tree import export_graphviz\n",
        "export_graphviz(estimator, out_file=\"tree.dot\", class_names=iris.target_names,\n",
        "                feature_names=iris.feature_names, impurity=False, filled=True)"
      ],
      "execution_count": 0,
      "outputs": []
    },
    {
      "metadata": {
        "id": "VE9iWYpINVCZ",
        "colab_type": "code",
        "colab": {
          "base_uri": "https://localhost:8080/",
          "height": 119
        },
        "outputId": "ba0a4110-d5ce-4b55-dd4f-bd0efdbc3e02"
      },
      "cell_type": "code",
      "source": [
        "!apt-get install graphviz -y\n",
        "!pip install graphviz"
      ],
      "execution_count": 36,
      "outputs": [
        {
          "output_type": "stream",
          "text": [
            "Reading package lists... Done\n",
            "Building dependency tree       \n",
            "Reading state information... Done\n",
            "graphviz is already the newest version (2.38.0-16ubuntu2).\n",
            "0 upgraded, 0 newly installed, 0 to remove and 0 not upgraded.\n",
            "Requirement already satisfied: graphviz in /usr/local/lib/python3.6/dist-packages (0.9)\n"
          ],
          "name": "stdout"
        }
      ]
    },
    {
      "metadata": {
        "id": "NeJpzgFBPZmo",
        "colab_type": "code",
        "colab": {
          "base_uri": "https://localhost:8080/",
          "height": 380
        },
        "outputId": "22148a9f-4de1-44a7-efd9-6cceaecb62ee"
      },
      "cell_type": "code",
      "source": [
        "import graphviz as gv\n",
        "\n",
        "with open(\"tree.dot\") as f:\n",
        "  dot_graph = f.read()\n",
        "display(gv.Source(dot_graph))"
      ],
      "execution_count": 37,
      "outputs": [
        {
          "output_type": "display_data",
          "data": {
            "text/plain": [
              "<graphviz.files.Source at 0x7f01025bd320>"
            ],
            "image/svg+xml": "<?xml version=\"1.0\" encoding=\"UTF-8\" standalone=\"no\"?>\n<!DOCTYPE svg PUBLIC \"-//W3C//DTD SVG 1.1//EN\"\n \"http://www.w3.org/Graphics/SVG/1.1/DTD/svg11.dtd\">\n<!-- Generated by graphviz version 2.38.0 (20140413.2041)\n -->\n<!-- Title: Tree Pages: 1 -->\n<svg width=\"418pt\" height=\"269pt\"\n viewBox=\"0.00 0.00 418.00 269.00\" xmlns=\"http://www.w3.org/2000/svg\" xmlns:xlink=\"http://www.w3.org/1999/xlink\">\n<g id=\"graph0\" class=\"graph\" transform=\"scale(1 1) rotate(0) translate(4 265)\">\n<title>Tree</title>\n<polygon fill=\"white\" stroke=\"none\" points=\"-4,4 -4,-265 414,-265 414,4 -4,4\"/>\n<!-- 0 -->\n<g id=\"node1\" class=\"node\"><title>0</title>\n<polygon fill=\"#8139e5\" fill-opacity=\"0.054902\" stroke=\"black\" points=\"260,-261 70,-261 70,-193 260,-193 260,-261\"/>\n<text text-anchor=\"middle\" x=\"165\" y=\"-245.8\" font-family=\"Times,serif\" font-size=\"14.00\">petal width (cm) &lt;= 0.8</text>\n<text text-anchor=\"middle\" x=\"165\" y=\"-230.8\" font-family=\"Times,serif\" font-size=\"14.00\">samples = 112</text>\n<text text-anchor=\"middle\" x=\"165\" y=\"-215.8\" font-family=\"Times,serif\" font-size=\"14.00\">value = [37, 34, 41]</text>\n<text text-anchor=\"middle\" x=\"165\" y=\"-200.8\" font-family=\"Times,serif\" font-size=\"14.00\">class = virginica</text>\n</g>\n<!-- 1 -->\n<g id=\"node2\" class=\"node\"><title>1</title>\n<polygon fill=\"#e58139\" stroke=\"black\" points=\"140,-149.5 0,-149.5 0,-96.5 140,-96.5 140,-149.5\"/>\n<text text-anchor=\"middle\" x=\"70\" y=\"-134.3\" font-family=\"Times,serif\" font-size=\"14.00\">samples = 37</text>\n<text text-anchor=\"middle\" x=\"70\" y=\"-119.3\" font-family=\"Times,serif\" font-size=\"14.00\">value = [37, 0, 0]</text>\n<text text-anchor=\"middle\" x=\"70\" y=\"-104.3\" font-family=\"Times,serif\" font-size=\"14.00\">class = setosa</text>\n</g>\n<!-- 0&#45;&gt;1 -->\n<g id=\"edge1\" class=\"edge\"><title>0&#45;&gt;1</title>\n<path fill=\"none\" stroke=\"black\" d=\"M134.156,-192.884C123.401,-181.336 111.341,-168.387 100.605,-156.86\"/>\n<polygon fill=\"black\" stroke=\"black\" points=\"103.145,-154.452 93.7686,-149.52 98.0229,-159.223 103.145,-154.452\"/>\n<text text-anchor=\"middle\" x=\"92.8808\" y=\"-170.804\" font-family=\"Times,serif\" font-size=\"14.00\">True</text>\n</g>\n<!-- 2 -->\n<g id=\"node3\" class=\"node\"><title>2</title>\n<polygon fill=\"#8139e5\" fill-opacity=\"0.172549\" stroke=\"black\" points=\"362,-157 158,-157 158,-89 362,-89 362,-157\"/>\n<text text-anchor=\"middle\" x=\"260\" y=\"-141.8\" font-family=\"Times,serif\" font-size=\"14.00\">petal length (cm) &lt;= 4.95</text>\n<text text-anchor=\"middle\" x=\"260\" y=\"-126.8\" font-family=\"Times,serif\" font-size=\"14.00\">samples = 75</text>\n<text text-anchor=\"middle\" x=\"260\" y=\"-111.8\" font-family=\"Times,serif\" font-size=\"14.00\">value = [0, 34, 41]</text>\n<text text-anchor=\"middle\" x=\"260\" y=\"-96.8\" font-family=\"Times,serif\" font-size=\"14.00\">class = virginica</text>\n</g>\n<!-- 0&#45;&gt;2 -->\n<g id=\"edge2\" class=\"edge\"><title>0&#45;&gt;2</title>\n<path fill=\"none\" stroke=\"black\" d=\"M195.844,-192.884C204.223,-183.887 213.394,-174.041 222.113,-164.678\"/>\n<polygon fill=\"black\" stroke=\"black\" points=\"224.732,-167.003 228.986,-157.299 219.609,-162.232 224.732,-167.003\"/>\n<text text-anchor=\"middle\" x=\"229.874\" y=\"-178.584\" font-family=\"Times,serif\" font-size=\"14.00\">False</text>\n</g>\n<!-- 3 -->\n<g id=\"node4\" class=\"node\"><title>3</title>\n<polygon fill=\"#39e581\" fill-opacity=\"0.909804\" stroke=\"black\" points=\"251.5,-53 106.5,-53 106.5,-0 251.5,-0 251.5,-53\"/>\n<text text-anchor=\"middle\" x=\"179\" y=\"-37.8\" font-family=\"Times,serif\" font-size=\"14.00\">samples = 36</text>\n<text text-anchor=\"middle\" x=\"179\" y=\"-22.8\" font-family=\"Times,serif\" font-size=\"14.00\">value = [0, 33, 3]</text>\n<text text-anchor=\"middle\" x=\"179\" y=\"-7.8\" font-family=\"Times,serif\" font-size=\"14.00\">class = versicolor</text>\n</g>\n<!-- 2&#45;&gt;3 -->\n<g id=\"edge3\" class=\"edge\"><title>2&#45;&gt;3</title>\n<path fill=\"none\" stroke=\"black\" d=\"M231.67,-88.9485C223.907,-79.892 215.487,-70.0682 207.704,-60.9875\"/>\n<polygon fill=\"black\" stroke=\"black\" points=\"210.225,-58.5515 201.06,-53.2367 204.911,-63.1071 210.225,-58.5515\"/>\n</g>\n<!-- 4 -->\n<g id=\"node5\" class=\"node\"><title>4</title>\n<polygon fill=\"#8139e5\" fill-opacity=\"0.972549\" stroke=\"black\" points=\"410,-53 270,-53 270,-0 410,-0 410,-53\"/>\n<text text-anchor=\"middle\" x=\"340\" y=\"-37.8\" font-family=\"Times,serif\" font-size=\"14.00\">samples = 39</text>\n<text text-anchor=\"middle\" x=\"340\" y=\"-22.8\" font-family=\"Times,serif\" font-size=\"14.00\">value = [0, 1, 38]</text>\n<text text-anchor=\"middle\" x=\"340\" y=\"-7.8\" font-family=\"Times,serif\" font-size=\"14.00\">class = virginica</text>\n</g>\n<!-- 2&#45;&gt;4 -->\n<g id=\"edge4\" class=\"edge\"><title>2&#45;&gt;4</title>\n<path fill=\"none\" stroke=\"black\" d=\"M287.98,-88.9485C295.647,-79.892 303.963,-70.0682 311.651,-60.9875\"/>\n<polygon fill=\"black\" stroke=\"black\" points=\"314.422,-63.1305 318.212,-53.2367 309.08,-58.6076 314.422,-63.1305\"/>\n</g>\n</g>\n</svg>\n"
          },
          "metadata": {
            "tags": []
          }
        }
      ]
    },
    {
      "metadata": {
        "id": "Leqo4zsQdUgj",
        "colab_type": "text"
      },
      "cell_type": "markdown",
      "source": [
        "This time we will make the *max_depth* 5"
      ]
    },
    {
      "metadata": {
        "id": "1NM9zfu_Pe-U",
        "colab_type": "code",
        "colab": {}
      },
      "cell_type": "code",
      "source": [
        "estimator = DecisionTreeClassifier(max_depth=5)"
      ],
      "execution_count": 0,
      "outputs": []
    },
    {
      "metadata": {
        "id": "fV2jI-7NPsPm",
        "colab_type": "code",
        "colab": {
          "base_uri": "https://localhost:8080/",
          "height": 119
        },
        "outputId": "acdb09cc-3567-41d5-f796-775f67bef093"
      },
      "cell_type": "code",
      "source": [
        "estimator"
      ],
      "execution_count": 39,
      "outputs": [
        {
          "output_type": "execute_result",
          "data": {
            "text/plain": [
              "DecisionTreeClassifier(class_weight=None, criterion='gini', max_depth=5,\n",
              "            max_features=None, max_leaf_nodes=None,\n",
              "            min_impurity_decrease=0.0, min_impurity_split=None,\n",
              "            min_samples_leaf=1, min_samples_split=2,\n",
              "            min_weight_fraction_leaf=0.0, presort=False, random_state=None,\n",
              "            splitter='best')"
            ]
          },
          "metadata": {
            "tags": []
          },
          "execution_count": 39
        }
      ]
    },
    {
      "metadata": {
        "id": "wkoGLO5QPueN",
        "colab_type": "code",
        "colab": {
          "base_uri": "https://localhost:8080/",
          "height": 119
        },
        "outputId": "e729e216-324a-48ee-b7ad-691ea0fe147c"
      },
      "cell_type": "code",
      "source": [
        "estimator.fit(x_train, y_train)"
      ],
      "execution_count": 40,
      "outputs": [
        {
          "output_type": "execute_result",
          "data": {
            "text/plain": [
              "DecisionTreeClassifier(class_weight=None, criterion='gini', max_depth=5,\n",
              "            max_features=None, max_leaf_nodes=None,\n",
              "            min_impurity_decrease=0.0, min_impurity_split=None,\n",
              "            min_samples_leaf=1, min_samples_split=2,\n",
              "            min_weight_fraction_leaf=0.0, presort=False, random_state=None,\n",
              "            splitter='best')"
            ]
          },
          "metadata": {
            "tags": []
          },
          "execution_count": 40
        }
      ]
    },
    {
      "metadata": {
        "id": "Ptd1Pbo2P1pm",
        "colab_type": "code",
        "colab": {
          "base_uri": "https://localhost:8080/",
          "height": 51
        },
        "outputId": "1192707f-b63d-4d7f-affd-93aef9d6c9c3"
      },
      "cell_type": "code",
      "source": [
        "y_predict = estimator.predict(x_test)\n",
        "y_predict"
      ],
      "execution_count": 41,
      "outputs": [
        {
          "output_type": "execute_result",
          "data": {
            "text/plain": [
              "array([2, 1, 0, 2, 0, 2, 0, 1, 1, 1, 2, 1, 1, 1, 1, 0, 1, 1, 0, 0, 2, 1,\n",
              "       0, 0, 2, 0, 0, 1, 1, 0, 2, 1, 0, 2, 2, 1, 0, 2])"
            ]
          },
          "metadata": {
            "tags": []
          },
          "execution_count": 41
        }
      ]
    },
    {
      "metadata": {
        "id": "k2P3HVt3QAET",
        "colab_type": "code",
        "colab": {
          "base_uri": "https://localhost:8080/",
          "height": 51
        },
        "outputId": "25e0d16b-b4c2-4418-d93d-f444fee355cb"
      },
      "cell_type": "code",
      "source": [
        "y_test"
      ],
      "execution_count": 42,
      "outputs": [
        {
          "output_type": "execute_result",
          "data": {
            "text/plain": [
              "array([2, 1, 0, 2, 0, 2, 0, 1, 1, 1, 2, 1, 1, 1, 1, 0, 1, 1, 0, 0, 2, 1,\n",
              "       0, 0, 2, 0, 0, 1, 1, 0, 2, 1, 0, 2, 2, 1, 0, 1])"
            ]
          },
          "metadata": {
            "tags": []
          },
          "execution_count": 42
        }
      ]
    },
    {
      "metadata": {
        "id": "1xHvJDlkQDqp",
        "colab_type": "code",
        "colab": {
          "base_uri": "https://localhost:8080/",
          "height": 34
        },
        "outputId": "8b15c261-aad7-45dd-cca7-b3b6bc521b03"
      },
      "cell_type": "code",
      "source": [
        "correct_labels = sum(y_predict == y_test)\n",
        "correct_labels"
      ],
      "execution_count": 43,
      "outputs": [
        {
          "output_type": "execute_result",
          "data": {
            "text/plain": [
              "37"
            ]
          },
          "metadata": {
            "tags": []
          },
          "execution_count": 43
        }
      ]
    },
    {
      "metadata": {
        "id": "zP5-X1pWQLef",
        "colab_type": "code",
        "colab": {
          "base_uri": "https://localhost:8080/",
          "height": 34
        },
        "outputId": "e1b80e5a-ef32-4edb-89b4-25a8a8f3bc12"
      },
      "cell_type": "code",
      "source": [
        "len(y_predict)"
      ],
      "execution_count": 44,
      "outputs": [
        {
          "output_type": "execute_result",
          "data": {
            "text/plain": [
              "38"
            ]
          },
          "metadata": {
            "tags": []
          },
          "execution_count": 44
        }
      ]
    },
    {
      "metadata": {
        "id": "sw1uRcRWQluf",
        "colab_type": "code",
        "colab": {
          "base_uri": "https://localhost:8080/",
          "height": 34
        },
        "outputId": "ba03ff8e-1628-4494-b5cb-443359738133"
      },
      "cell_type": "code",
      "source": [
        "print(\"Accuracy:\", correct_labels/len(y_predict))"
      ],
      "execution_count": 45,
      "outputs": [
        {
          "output_type": "stream",
          "text": [
            "Accuracy: 0.9736842105263158\n"
          ],
          "name": "stdout"
        }
      ]
    },
    {
      "metadata": {
        "id": "a7xBGnzRdekv",
        "colab_type": "text"
      },
      "cell_type": "markdown",
      "source": [
        "The accuracy increased from 89% to 97%"
      ]
    },
    {
      "metadata": {
        "id": "PuEkIaIVQ8jL",
        "colab_type": "code",
        "colab": {}
      },
      "cell_type": "code",
      "source": [
        "from sklearn.tree import export_graphviz\n",
        "export_graphviz(estimator, out_file=\"tree.dot\", class_names=iris.target_names,\n",
        "                feature_names=iris.feature_names, impurity=False, filled=True)"
      ],
      "execution_count": 0,
      "outputs": []
    },
    {
      "metadata": {
        "id": "uc-OmocvQ-SY",
        "colab_type": "code",
        "colab": {
          "base_uri": "https://localhost:8080/",
          "height": 677
        },
        "outputId": "23e7fe99-2ea9-409a-e368-c575eeb510db"
      },
      "cell_type": "code",
      "source": [
        "import graphviz as gv\n",
        "\n",
        "with open(\"tree.dot\") as f:\n",
        "  dot_graph = f.read()\n",
        "display(gv.Source(dot_graph))"
      ],
      "execution_count": 47,
      "outputs": [
        {
          "output_type": "display_data",
          "data": {
            "text/plain": [
              "<graphviz.files.Source at 0x7f0102619ba8>"
            ],
            "image/svg+xml": "<?xml version=\"1.0\" encoding=\"UTF-8\" standalone=\"no\"?>\n<!DOCTYPE svg PUBLIC \"-//W3C//DTD SVG 1.1//EN\"\n \"http://www.w3.org/Graphics/SVG/1.1/DTD/svg11.dtd\">\n<!-- Generated by graphviz version 2.38.0 (20140413.2041)\n -->\n<!-- Title: Tree Pages: 1 -->\n<svg width=\"738pt\" height=\"477pt\"\n viewBox=\"0.00 0.00 737.50 477.00\" xmlns=\"http://www.w3.org/2000/svg\" xmlns:xlink=\"http://www.w3.org/1999/xlink\">\n<g id=\"graph0\" class=\"graph\" transform=\"scale(1 1) rotate(0) translate(4 473)\">\n<title>Tree</title>\n<polygon fill=\"white\" stroke=\"none\" points=\"-4,4 -4,-473 733.5,-473 733.5,4 -4,4\"/>\n<!-- 0 -->\n<g id=\"node1\" class=\"node\"><title>0</title>\n<polygon fill=\"#8139e5\" fill-opacity=\"0.054902\" stroke=\"black\" points=\"371.5,-469 167.5,-469 167.5,-401 371.5,-401 371.5,-469\"/>\n<text text-anchor=\"middle\" x=\"269.5\" y=\"-453.8\" font-family=\"Times,serif\" font-size=\"14.00\">petal length (cm) &lt;= 2.35</text>\n<text text-anchor=\"middle\" x=\"269.5\" y=\"-438.8\" font-family=\"Times,serif\" font-size=\"14.00\">samples = 112</text>\n<text text-anchor=\"middle\" x=\"269.5\" y=\"-423.8\" font-family=\"Times,serif\" font-size=\"14.00\">value = [37, 34, 41]</text>\n<text text-anchor=\"middle\" x=\"269.5\" y=\"-408.8\" font-family=\"Times,serif\" font-size=\"14.00\">class = virginica</text>\n</g>\n<!-- 1 -->\n<g id=\"node2\" class=\"node\"><title>1</title>\n<polygon fill=\"#e58139\" stroke=\"black\" points=\"244.5,-357.5 104.5,-357.5 104.5,-304.5 244.5,-304.5 244.5,-357.5\"/>\n<text text-anchor=\"middle\" x=\"174.5\" y=\"-342.3\" font-family=\"Times,serif\" font-size=\"14.00\">samples = 37</text>\n<text text-anchor=\"middle\" x=\"174.5\" y=\"-327.3\" font-family=\"Times,serif\" font-size=\"14.00\">value = [37, 0, 0]</text>\n<text text-anchor=\"middle\" x=\"174.5\" y=\"-312.3\" font-family=\"Times,serif\" font-size=\"14.00\">class = setosa</text>\n</g>\n<!-- 0&#45;&gt;1 -->\n<g id=\"edge1\" class=\"edge\"><title>0&#45;&gt;1</title>\n<path fill=\"none\" stroke=\"black\" d=\"M238.656,-400.884C227.901,-389.336 215.841,-376.387 205.105,-364.86\"/>\n<polygon fill=\"black\" stroke=\"black\" points=\"207.645,-362.452 198.269,-357.52 202.523,-367.223 207.645,-362.452\"/>\n<text text-anchor=\"middle\" x=\"197.381\" y=\"-378.804\" font-family=\"Times,serif\" font-size=\"14.00\">True</text>\n</g>\n<!-- 2 -->\n<g id=\"node3\" class=\"node\"><title>2</title>\n<polygon fill=\"#8139e5\" fill-opacity=\"0.172549\" stroke=\"black\" points=\"466.5,-365 262.5,-365 262.5,-297 466.5,-297 466.5,-365\"/>\n<text text-anchor=\"middle\" x=\"364.5\" y=\"-349.8\" font-family=\"Times,serif\" font-size=\"14.00\">petal length (cm) &lt;= 4.95</text>\n<text text-anchor=\"middle\" x=\"364.5\" y=\"-334.8\" font-family=\"Times,serif\" font-size=\"14.00\">samples = 75</text>\n<text text-anchor=\"middle\" x=\"364.5\" y=\"-319.8\" font-family=\"Times,serif\" font-size=\"14.00\">value = [0, 34, 41]</text>\n<text text-anchor=\"middle\" x=\"364.5\" y=\"-304.8\" font-family=\"Times,serif\" font-size=\"14.00\">class = virginica</text>\n</g>\n<!-- 0&#45;&gt;2 -->\n<g id=\"edge2\" class=\"edge\"><title>0&#45;&gt;2</title>\n<path fill=\"none\" stroke=\"black\" d=\"M300.344,-400.884C308.723,-391.887 317.894,-382.041 326.613,-372.678\"/>\n<polygon fill=\"black\" stroke=\"black\" points=\"329.232,-375.003 333.486,-365.299 324.109,-370.232 329.232,-375.003\"/>\n<text text-anchor=\"middle\" x=\"334.374\" y=\"-386.584\" font-family=\"Times,serif\" font-size=\"14.00\">False</text>\n</g>\n<!-- 3 -->\n<g id=\"node4\" class=\"node\"><title>3</title>\n<polygon fill=\"#39e581\" fill-opacity=\"0.909804\" stroke=\"black\" points=\"354,-261 155,-261 155,-193 354,-193 354,-261\"/>\n<text text-anchor=\"middle\" x=\"254.5\" y=\"-245.8\" font-family=\"Times,serif\" font-size=\"14.00\">petal width (cm) &lt;= 1.65</text>\n<text text-anchor=\"middle\" x=\"254.5\" y=\"-230.8\" font-family=\"Times,serif\" font-size=\"14.00\">samples = 36</text>\n<text text-anchor=\"middle\" x=\"254.5\" y=\"-215.8\" font-family=\"Times,serif\" font-size=\"14.00\">value = [0, 33, 3]</text>\n<text text-anchor=\"middle\" x=\"254.5\" y=\"-200.8\" font-family=\"Times,serif\" font-size=\"14.00\">class = versicolor</text>\n</g>\n<!-- 2&#45;&gt;3 -->\n<g id=\"edge3\" class=\"edge\"><title>2&#45;&gt;3</title>\n<path fill=\"none\" stroke=\"black\" d=\"M328.786,-296.884C318.892,-287.709 308.044,-277.65 297.77,-268.123\"/>\n<polygon fill=\"black\" stroke=\"black\" points=\"300.124,-265.532 290.411,-261.299 295.364,-270.665 300.124,-265.532\"/>\n</g>\n<!-- 8 -->\n<g id=\"node9\" class=\"node\"><title>8</title>\n<polygon fill=\"#8139e5\" fill-opacity=\"0.972549\" stroke=\"black\" points=\"576.5,-261 372.5,-261 372.5,-193 576.5,-193 576.5,-261\"/>\n<text text-anchor=\"middle\" x=\"474.5\" y=\"-245.8\" font-family=\"Times,serif\" font-size=\"14.00\">petal length (cm) &lt;= 5.05</text>\n<text text-anchor=\"middle\" x=\"474.5\" y=\"-230.8\" font-family=\"Times,serif\" font-size=\"14.00\">samples = 39</text>\n<text text-anchor=\"middle\" x=\"474.5\" y=\"-215.8\" font-family=\"Times,serif\" font-size=\"14.00\">value = [0, 1, 38]</text>\n<text text-anchor=\"middle\" x=\"474.5\" y=\"-200.8\" font-family=\"Times,serif\" font-size=\"14.00\">class = virginica</text>\n</g>\n<!-- 2&#45;&gt;8 -->\n<g id=\"edge8\" class=\"edge\"><title>2&#45;&gt;8</title>\n<path fill=\"none\" stroke=\"black\" d=\"M400.214,-296.884C410.108,-287.709 420.956,-277.65 431.23,-268.123\"/>\n<polygon fill=\"black\" stroke=\"black\" points=\"433.636,-270.665 438.589,-261.299 428.876,-265.532 433.636,-270.665\"/>\n</g>\n<!-- 4 -->\n<g id=\"node5\" class=\"node\"><title>4</title>\n<polygon fill=\"#39e581\" stroke=\"black\" points=\"145,-149.5 0,-149.5 0,-96.5 145,-96.5 145,-149.5\"/>\n<text text-anchor=\"middle\" x=\"72.5\" y=\"-134.3\" font-family=\"Times,serif\" font-size=\"14.00\">samples = 32</text>\n<text text-anchor=\"middle\" x=\"72.5\" y=\"-119.3\" font-family=\"Times,serif\" font-size=\"14.00\">value = [0, 32, 0]</text>\n<text text-anchor=\"middle\" x=\"72.5\" y=\"-104.3\" font-family=\"Times,serif\" font-size=\"14.00\">class = versicolor</text>\n</g>\n<!-- 3&#45;&gt;4 -->\n<g id=\"edge4\" class=\"edge\"><title>3&#45;&gt;4</title>\n<path fill=\"none\" stroke=\"black\" d=\"M195.41,-192.884C173.333,-180.511 148.388,-166.53 126.767,-154.413\"/>\n<polygon fill=\"black\" stroke=\"black\" points=\"128.47,-151.356 118.036,-149.52 125.048,-157.462 128.47,-151.356\"/>\n</g>\n<!-- 5 -->\n<g id=\"node6\" class=\"node\"><title>5</title>\n<polygon fill=\"#8139e5\" fill-opacity=\"0.666667\" stroke=\"black\" points=\"354,-157 163,-157 163,-89 354,-89 354,-157\"/>\n<text text-anchor=\"middle\" x=\"258.5\" y=\"-141.8\" font-family=\"Times,serif\" font-size=\"14.00\">sepal width (cm) &lt;= 3.1</text>\n<text text-anchor=\"middle\" x=\"258.5\" y=\"-126.8\" font-family=\"Times,serif\" font-size=\"14.00\">samples = 4</text>\n<text text-anchor=\"middle\" x=\"258.5\" y=\"-111.8\" font-family=\"Times,serif\" font-size=\"14.00\">value = [0, 1, 3]</text>\n<text text-anchor=\"middle\" x=\"258.5\" y=\"-96.8\" font-family=\"Times,serif\" font-size=\"14.00\">class = virginica</text>\n</g>\n<!-- 3&#45;&gt;5 -->\n<g id=\"edge5\" class=\"edge\"><title>3&#45;&gt;5</title>\n<path fill=\"none\" stroke=\"black\" d=\"M255.799,-192.884C256.117,-184.778 256.461,-175.982 256.795,-167.472\"/>\n<polygon fill=\"black\" stroke=\"black\" points=\"260.3,-167.429 257.194,-157.299 253.305,-167.155 260.3,-167.429\"/>\n</g>\n<!-- 6 -->\n<g id=\"node7\" class=\"node\"><title>6</title>\n<polygon fill=\"#8139e5\" stroke=\"black\" points=\"182,-53 45,-53 45,-0 182,-0 182,-53\"/>\n<text text-anchor=\"middle\" x=\"113.5\" y=\"-37.8\" font-family=\"Times,serif\" font-size=\"14.00\">samples = 3</text>\n<text text-anchor=\"middle\" x=\"113.5\" y=\"-22.8\" font-family=\"Times,serif\" font-size=\"14.00\">value = [0, 0, 3]</text>\n<text text-anchor=\"middle\" x=\"113.5\" y=\"-7.8\" font-family=\"Times,serif\" font-size=\"14.00\">class = virginica</text>\n</g>\n<!-- 5&#45;&gt;6 -->\n<g id=\"edge6\" class=\"edge\"><title>5&#45;&gt;6</title>\n<path fill=\"none\" stroke=\"black\" d=\"M207.786,-88.9485C192.767,-79.1601 176.373,-68.4756 161.529,-58.8015\"/>\n<polygon fill=\"black\" stroke=\"black\" points=\"163.279,-55.7645 152.99,-53.2367 159.457,-61.629 163.279,-55.7645\"/>\n</g>\n<!-- 7 -->\n<g id=\"node8\" class=\"node\"><title>7</title>\n<polygon fill=\"#39e581\" stroke=\"black\" points=\"345,-53 200,-53 200,-0 345,-0 345,-53\"/>\n<text text-anchor=\"middle\" x=\"272.5\" y=\"-37.8\" font-family=\"Times,serif\" font-size=\"14.00\">samples = 1</text>\n<text text-anchor=\"middle\" x=\"272.5\" y=\"-22.8\" font-family=\"Times,serif\" font-size=\"14.00\">value = [0, 1, 0]</text>\n<text text-anchor=\"middle\" x=\"272.5\" y=\"-7.8\" font-family=\"Times,serif\" font-size=\"14.00\">class = versicolor</text>\n</g>\n<!-- 5&#45;&gt;7 -->\n<g id=\"edge7\" class=\"edge\"><title>5&#45;&gt;7</title>\n<path fill=\"none\" stroke=\"black\" d=\"M263.397,-88.9485C264.63,-80.6238 265.959,-71.6509 267.211,-63.2027\"/>\n<polygon fill=\"black\" stroke=\"black\" points=\"270.684,-63.6417 268.687,-53.2367 263.759,-62.6158 270.684,-63.6417\"/>\n</g>\n<!-- 9 -->\n<g id=\"node10\" class=\"node\"><title>9</title>\n<polygon fill=\"#8139e5\" fill-opacity=\"0.666667\" stroke=\"black\" points=\"571,-157 374,-157 374,-89 571,-89 571,-157\"/>\n<text text-anchor=\"middle\" x=\"472.5\" y=\"-141.8\" font-family=\"Times,serif\" font-size=\"14.00\">sepal length (cm) &lt;= 6.5</text>\n<text text-anchor=\"middle\" x=\"472.5\" y=\"-126.8\" font-family=\"Times,serif\" font-size=\"14.00\">samples = 4</text>\n<text text-anchor=\"middle\" x=\"472.5\" y=\"-111.8\" font-family=\"Times,serif\" font-size=\"14.00\">value = [0, 1, 3]</text>\n<text text-anchor=\"middle\" x=\"472.5\" y=\"-96.8\" font-family=\"Times,serif\" font-size=\"14.00\">class = virginica</text>\n</g>\n<!-- 8&#45;&gt;9 -->\n<g id=\"edge9\" class=\"edge\"><title>8&#45;&gt;9</title>\n<path fill=\"none\" stroke=\"black\" d=\"M473.851,-192.884C473.692,-184.778 473.519,-175.982 473.352,-167.472\"/>\n<polygon fill=\"black\" stroke=\"black\" points=\"476.848,-167.229 473.153,-157.299 469.85,-167.366 476.848,-167.229\"/>\n</g>\n<!-- 12 -->\n<g id=\"node13\" class=\"node\"><title>12</title>\n<polygon fill=\"#8139e5\" stroke=\"black\" points=\"729.5,-149.5 589.5,-149.5 589.5,-96.5 729.5,-96.5 729.5,-149.5\"/>\n<text text-anchor=\"middle\" x=\"659.5\" y=\"-134.3\" font-family=\"Times,serif\" font-size=\"14.00\">samples = 35</text>\n<text text-anchor=\"middle\" x=\"659.5\" y=\"-119.3\" font-family=\"Times,serif\" font-size=\"14.00\">value = [0, 0, 35]</text>\n<text text-anchor=\"middle\" x=\"659.5\" y=\"-104.3\" font-family=\"Times,serif\" font-size=\"14.00\">class = virginica</text>\n</g>\n<!-- 8&#45;&gt;12 -->\n<g id=\"edge12\" class=\"edge\"><title>8&#45;&gt;12</title>\n<path fill=\"none\" stroke=\"black\" d=\"M534.564,-192.884C557.005,-180.511 582.361,-166.53 604.339,-154.413\"/>\n<polygon fill=\"black\" stroke=\"black\" points=\"606.147,-157.413 613.214,-149.52 602.767,-151.283 606.147,-157.413\"/>\n</g>\n<!-- 10 -->\n<g id=\"node11\" class=\"node\"><title>10</title>\n<polygon fill=\"#8139e5\" stroke=\"black\" points=\"527,-53 390,-53 390,-0 527,-0 527,-53\"/>\n<text text-anchor=\"middle\" x=\"458.5\" y=\"-37.8\" font-family=\"Times,serif\" font-size=\"14.00\">samples = 3</text>\n<text text-anchor=\"middle\" x=\"458.5\" y=\"-22.8\" font-family=\"Times,serif\" font-size=\"14.00\">value = [0, 0, 3]</text>\n<text text-anchor=\"middle\" x=\"458.5\" y=\"-7.8\" font-family=\"Times,serif\" font-size=\"14.00\">class = virginica</text>\n</g>\n<!-- 9&#45;&gt;10 -->\n<g id=\"edge10\" class=\"edge\"><title>9&#45;&gt;10</title>\n<path fill=\"none\" stroke=\"black\" d=\"M467.603,-88.9485C466.37,-80.6238 465.041,-71.6509 463.789,-63.2027\"/>\n<polygon fill=\"black\" stroke=\"black\" points=\"467.241,-62.6158 462.313,-53.2367 460.316,-63.6417 467.241,-62.6158\"/>\n</g>\n<!-- 11 -->\n<g id=\"node12\" class=\"node\"><title>11</title>\n<polygon fill=\"#39e581\" stroke=\"black\" points=\"690,-53 545,-53 545,-0 690,-0 690,-53\"/>\n<text text-anchor=\"middle\" x=\"617.5\" y=\"-37.8\" font-family=\"Times,serif\" font-size=\"14.00\">samples = 1</text>\n<text text-anchor=\"middle\" x=\"617.5\" y=\"-22.8\" font-family=\"Times,serif\" font-size=\"14.00\">value = [0, 1, 0]</text>\n<text text-anchor=\"middle\" x=\"617.5\" y=\"-7.8\" font-family=\"Times,serif\" font-size=\"14.00\">class = versicolor</text>\n</g>\n<!-- 9&#45;&gt;11 -->\n<g id=\"edge11\" class=\"edge\"><title>9&#45;&gt;11</title>\n<path fill=\"none\" stroke=\"black\" d=\"M523.214,-88.9485C538.233,-79.1601 554.627,-68.4756 569.471,-58.8015\"/>\n<polygon fill=\"black\" stroke=\"black\" points=\"571.543,-61.629 578.01,-53.2367 567.721,-55.7645 571.543,-61.629\"/>\n</g>\n</g>\n</svg>\n"
          },
          "metadata": {
            "tags": []
          }
        }
      ]
    },
    {
      "metadata": {
        "id": "nPlOMCA3Ra0o",
        "colab_type": "text"
      },
      "cell_type": "markdown",
      "source": [
        "Now we will try to increase and decrease the *max_depth* and see if we can further increase the accuracy"
      ]
    },
    {
      "metadata": {
        "id": "8m_49kKJeEbH",
        "colab_type": "code",
        "colab": {}
      },
      "cell_type": "code",
      "source": [
        "my_max_depth = 10 #@param {type:\"slider\", min:1, max:10, step:1}"
      ],
      "execution_count": 0,
      "outputs": []
    },
    {
      "metadata": {
        "id": "w6qdK1_yRZ9E",
        "colab_type": "code",
        "colab": {
          "base_uri": "https://localhost:8080/",
          "height": 119
        },
        "outputId": "90e344b2-b320-460f-d332-c7327e3b9879"
      },
      "cell_type": "code",
      "source": [
        "estimator = DecisionTreeClassifier(max_depth=my_max_depth)\n",
        "estimator"
      ],
      "execution_count": 49,
      "outputs": [
        {
          "output_type": "execute_result",
          "data": {
            "text/plain": [
              "DecisionTreeClassifier(class_weight=None, criterion='gini', max_depth=10,\n",
              "            max_features=None, max_leaf_nodes=None,\n",
              "            min_impurity_decrease=0.0, min_impurity_split=None,\n",
              "            min_samples_leaf=1, min_samples_split=2,\n",
              "            min_weight_fraction_leaf=0.0, presort=False, random_state=None,\n",
              "            splitter='best')"
            ]
          },
          "metadata": {
            "tags": []
          },
          "execution_count": 49
        }
      ]
    },
    {
      "metadata": {
        "id": "lFplHjmuRt0M",
        "colab_type": "code",
        "colab": {
          "base_uri": "https://localhost:8080/",
          "height": 119
        },
        "outputId": "6d40d448-3775-47ae-8e2d-954e15653602"
      },
      "cell_type": "code",
      "source": [
        "estimator.fit(x_train, y_train)"
      ],
      "execution_count": 50,
      "outputs": [
        {
          "output_type": "execute_result",
          "data": {
            "text/plain": [
              "DecisionTreeClassifier(class_weight=None, criterion='gini', max_depth=10,\n",
              "            max_features=None, max_leaf_nodes=None,\n",
              "            min_impurity_decrease=0.0, min_impurity_split=None,\n",
              "            min_samples_leaf=1, min_samples_split=2,\n",
              "            min_weight_fraction_leaf=0.0, presort=False, random_state=None,\n",
              "            splitter='best')"
            ]
          },
          "metadata": {
            "tags": []
          },
          "execution_count": 50
        }
      ]
    },
    {
      "metadata": {
        "id": "2mtL8EJJRzG_",
        "colab_type": "code",
        "colab": {}
      },
      "cell_type": "code",
      "source": [
        "y_predict = estimator.predict(x_test)"
      ],
      "execution_count": 0,
      "outputs": []
    },
    {
      "metadata": {
        "id": "mnmPjMLZSAhT",
        "colab_type": "code",
        "colab": {
          "base_uri": "https://localhost:8080/",
          "height": 34
        },
        "outputId": "6f4b932f-a313-41a5-b135-b757e562f91d"
      },
      "cell_type": "code",
      "source": [
        "correct_labels = sum(y_predict == y_test)\n",
        "correct_labels"
      ],
      "execution_count": 52,
      "outputs": [
        {
          "output_type": "execute_result",
          "data": {
            "text/plain": [
              "37"
            ]
          },
          "metadata": {
            "tags": []
          },
          "execution_count": 52
        }
      ]
    },
    {
      "metadata": {
        "id": "1Ols67oGSSfm",
        "colab_type": "code",
        "colab": {
          "base_uri": "https://localhost:8080/",
          "height": 34
        },
        "outputId": "d37a6a8a-9946-411a-c196-29550128f9ea"
      },
      "cell_type": "code",
      "source": [
        "len(y_predict)"
      ],
      "execution_count": 53,
      "outputs": [
        {
          "output_type": "execute_result",
          "data": {
            "text/plain": [
              "38"
            ]
          },
          "metadata": {
            "tags": []
          },
          "execution_count": 53
        }
      ]
    },
    {
      "metadata": {
        "id": "INyBrHlBSX1k",
        "colab_type": "code",
        "colab": {
          "base_uri": "https://localhost:8080/",
          "height": 34
        },
        "outputId": "13f1865c-c130-42ce-df63-5210d5cc2618"
      },
      "cell_type": "code",
      "source": [
        "print(\"Accuracy:\", correct_labels/len(y_predict))"
      ],
      "execution_count": 54,
      "outputs": [
        {
          "output_type": "stream",
          "text": [
            "Accuracy: 0.9736842105263158\n"
          ],
          "name": "stdout"
        }
      ]
    },
    {
      "metadata": {
        "id": "YU_UDtIaSe3w",
        "colab_type": "code",
        "colab": {}
      },
      "cell_type": "code",
      "source": [
        "from sklearn.tree import export_graphviz\n",
        "export_graphviz(estimator, out_file=\"tree.dot\", class_names=iris.target_names,\n",
        "                feature_names=iris.feature_names, impurity=False, filled=True)"
      ],
      "execution_count": 0,
      "outputs": []
    },
    {
      "metadata": {
        "id": "-PGBDooCSfcn",
        "colab_type": "code",
        "colab": {
          "base_uri": "https://localhost:8080/",
          "height": 677
        },
        "outputId": "f3b477c6-870d-4f9f-f25d-8e3f60786823"
      },
      "cell_type": "code",
      "source": [
        "import graphviz as gv\n",
        "\n",
        "with open(\"tree.dot\") as f:\n",
        "  dot_graph = f.read()\n",
        "display(gv.Source(dot_graph))"
      ],
      "execution_count": 56,
      "outputs": [
        {
          "output_type": "display_data",
          "data": {
            "text/plain": [
              "<graphviz.files.Source at 0x7f01025dcfd0>"
            ],
            "image/svg+xml": "<?xml version=\"1.0\" encoding=\"UTF-8\" standalone=\"no\"?>\n<!DOCTYPE svg PUBLIC \"-//W3C//DTD SVG 1.1//EN\"\n \"http://www.w3.org/Graphics/SVG/1.1/DTD/svg11.dtd\">\n<!-- Generated by graphviz version 2.38.0 (20140413.2041)\n -->\n<!-- Title: Tree Pages: 1 -->\n<svg width=\"739pt\" height=\"477pt\"\n viewBox=\"0.00 0.00 738.50 477.00\" xmlns=\"http://www.w3.org/2000/svg\" xmlns:xlink=\"http://www.w3.org/1999/xlink\">\n<g id=\"graph0\" class=\"graph\" transform=\"scale(1 1) rotate(0) translate(4 473)\">\n<title>Tree</title>\n<polygon fill=\"white\" stroke=\"none\" points=\"-4,4 -4,-473 734.5,-473 734.5,4 -4,4\"/>\n<!-- 0 -->\n<g id=\"node1\" class=\"node\"><title>0</title>\n<polygon fill=\"#8139e5\" fill-opacity=\"0.054902\" stroke=\"black\" points=\"364.5,-469 174.5,-469 174.5,-401 364.5,-401 364.5,-469\"/>\n<text text-anchor=\"middle\" x=\"269.5\" y=\"-453.8\" font-family=\"Times,serif\" font-size=\"14.00\">petal width (cm) &lt;= 0.8</text>\n<text text-anchor=\"middle\" x=\"269.5\" y=\"-438.8\" font-family=\"Times,serif\" font-size=\"14.00\">samples = 112</text>\n<text text-anchor=\"middle\" x=\"269.5\" y=\"-423.8\" font-family=\"Times,serif\" font-size=\"14.00\">value = [37, 34, 41]</text>\n<text text-anchor=\"middle\" x=\"269.5\" y=\"-408.8\" font-family=\"Times,serif\" font-size=\"14.00\">class = virginica</text>\n</g>\n<!-- 1 -->\n<g id=\"node2\" class=\"node\"><title>1</title>\n<polygon fill=\"#e58139\" stroke=\"black\" points=\"244.5,-357.5 104.5,-357.5 104.5,-304.5 244.5,-304.5 244.5,-357.5\"/>\n<text text-anchor=\"middle\" x=\"174.5\" y=\"-342.3\" font-family=\"Times,serif\" font-size=\"14.00\">samples = 37</text>\n<text text-anchor=\"middle\" x=\"174.5\" y=\"-327.3\" font-family=\"Times,serif\" font-size=\"14.00\">value = [37, 0, 0]</text>\n<text text-anchor=\"middle\" x=\"174.5\" y=\"-312.3\" font-family=\"Times,serif\" font-size=\"14.00\">class = setosa</text>\n</g>\n<!-- 0&#45;&gt;1 -->\n<g id=\"edge1\" class=\"edge\"><title>0&#45;&gt;1</title>\n<path fill=\"none\" stroke=\"black\" d=\"M238.656,-400.884C227.901,-389.336 215.841,-376.387 205.105,-364.86\"/>\n<polygon fill=\"black\" stroke=\"black\" points=\"207.645,-362.452 198.269,-357.52 202.523,-367.223 207.645,-362.452\"/>\n<text text-anchor=\"middle\" x=\"197.381\" y=\"-378.804\" font-family=\"Times,serif\" font-size=\"14.00\">True</text>\n</g>\n<!-- 2 -->\n<g id=\"node3\" class=\"node\"><title>2</title>\n<polygon fill=\"#8139e5\" fill-opacity=\"0.172549\" stroke=\"black\" points=\"466.5,-365 262.5,-365 262.5,-297 466.5,-297 466.5,-365\"/>\n<text text-anchor=\"middle\" x=\"364.5\" y=\"-349.8\" font-family=\"Times,serif\" font-size=\"14.00\">petal length (cm) &lt;= 4.95</text>\n<text text-anchor=\"middle\" x=\"364.5\" y=\"-334.8\" font-family=\"Times,serif\" font-size=\"14.00\">samples = 75</text>\n<text text-anchor=\"middle\" x=\"364.5\" y=\"-319.8\" font-family=\"Times,serif\" font-size=\"14.00\">value = [0, 34, 41]</text>\n<text text-anchor=\"middle\" x=\"364.5\" y=\"-304.8\" font-family=\"Times,serif\" font-size=\"14.00\">class = virginica</text>\n</g>\n<!-- 0&#45;&gt;2 -->\n<g id=\"edge2\" class=\"edge\"><title>0&#45;&gt;2</title>\n<path fill=\"none\" stroke=\"black\" d=\"M300.344,-400.884C308.723,-391.887 317.894,-382.041 326.613,-372.678\"/>\n<polygon fill=\"black\" stroke=\"black\" points=\"329.232,-375.003 333.486,-365.299 324.109,-370.232 329.232,-375.003\"/>\n<text text-anchor=\"middle\" x=\"334.374\" y=\"-386.584\" font-family=\"Times,serif\" font-size=\"14.00\">False</text>\n</g>\n<!-- 3 -->\n<g id=\"node4\" class=\"node\"><title>3</title>\n<polygon fill=\"#39e581\" fill-opacity=\"0.909804\" stroke=\"black\" points=\"356,-261 157,-261 157,-193 356,-193 356,-261\"/>\n<text text-anchor=\"middle\" x=\"256.5\" y=\"-245.8\" font-family=\"Times,serif\" font-size=\"14.00\">petal width (cm) &lt;= 1.65</text>\n<text text-anchor=\"middle\" x=\"256.5\" y=\"-230.8\" font-family=\"Times,serif\" font-size=\"14.00\">samples = 36</text>\n<text text-anchor=\"middle\" x=\"256.5\" y=\"-215.8\" font-family=\"Times,serif\" font-size=\"14.00\">value = [0, 33, 3]</text>\n<text text-anchor=\"middle\" x=\"256.5\" y=\"-200.8\" font-family=\"Times,serif\" font-size=\"14.00\">class = versicolor</text>\n</g>\n<!-- 2&#45;&gt;3 -->\n<g id=\"edge3\" class=\"edge\"><title>2&#45;&gt;3</title>\n<path fill=\"none\" stroke=\"black\" d=\"M329.435,-296.884C319.816,-287.798 309.278,-277.845 299.277,-268.4\"/>\n<polygon fill=\"black\" stroke=\"black\" points=\"301.431,-265.621 291.758,-261.299 296.625,-270.71 301.431,-265.621\"/>\n</g>\n<!-- 8 -->\n<g id=\"node9\" class=\"node\"><title>8</title>\n<polygon fill=\"#8139e5\" fill-opacity=\"0.972549\" stroke=\"black\" points=\"573,-261 374,-261 374,-193 573,-193 573,-261\"/>\n<text text-anchor=\"middle\" x=\"473.5\" y=\"-245.8\" font-family=\"Times,serif\" font-size=\"14.00\">petal width (cm) &lt;= 1.75</text>\n<text text-anchor=\"middle\" x=\"473.5\" y=\"-230.8\" font-family=\"Times,serif\" font-size=\"14.00\">samples = 39</text>\n<text text-anchor=\"middle\" x=\"473.5\" y=\"-215.8\" font-family=\"Times,serif\" font-size=\"14.00\">value = [0, 1, 38]</text>\n<text text-anchor=\"middle\" x=\"473.5\" y=\"-200.8\" font-family=\"Times,serif\" font-size=\"14.00\">class = virginica</text>\n</g>\n<!-- 2&#45;&gt;8 -->\n<g id=\"edge8\" class=\"edge\"><title>2&#45;&gt;8</title>\n<path fill=\"none\" stroke=\"black\" d=\"M399.889,-296.884C409.598,-287.798 420.234,-277.845 430.327,-268.4\"/>\n<polygon fill=\"black\" stroke=\"black\" points=\"433.005,-270.688 437.915,-261.299 428.222,-265.577 433.005,-270.688\"/>\n</g>\n<!-- 4 -->\n<g id=\"node5\" class=\"node\"><title>4</title>\n<polygon fill=\"#39e581\" stroke=\"black\" points=\"145,-149.5 0,-149.5 0,-96.5 145,-96.5 145,-149.5\"/>\n<text text-anchor=\"middle\" x=\"72.5\" y=\"-134.3\" font-family=\"Times,serif\" font-size=\"14.00\">samples = 32</text>\n<text text-anchor=\"middle\" x=\"72.5\" y=\"-119.3\" font-family=\"Times,serif\" font-size=\"14.00\">value = [0, 32, 0]</text>\n<text text-anchor=\"middle\" x=\"72.5\" y=\"-104.3\" font-family=\"Times,serif\" font-size=\"14.00\">class = versicolor</text>\n</g>\n<!-- 3&#45;&gt;4 -->\n<g id=\"edge4\" class=\"edge\"><title>3&#45;&gt;4</title>\n<path fill=\"none\" stroke=\"black\" d=\"M196.76,-192.884C174.441,-180.511 149.222,-166.53 127.363,-154.413\"/>\n<polygon fill=\"black\" stroke=\"black\" points=\"128.979,-151.307 118.536,-149.52 125.585,-157.429 128.979,-151.307\"/>\n</g>\n<!-- 5 -->\n<g id=\"node6\" class=\"node\"><title>5</title>\n<polygon fill=\"#8139e5\" fill-opacity=\"0.666667\" stroke=\"black\" points=\"354,-157 163,-157 163,-89 354,-89 354,-157\"/>\n<text text-anchor=\"middle\" x=\"258.5\" y=\"-141.8\" font-family=\"Times,serif\" font-size=\"14.00\">sepal width (cm) &lt;= 3.1</text>\n<text text-anchor=\"middle\" x=\"258.5\" y=\"-126.8\" font-family=\"Times,serif\" font-size=\"14.00\">samples = 4</text>\n<text text-anchor=\"middle\" x=\"258.5\" y=\"-111.8\" font-family=\"Times,serif\" font-size=\"14.00\">value = [0, 1, 3]</text>\n<text text-anchor=\"middle\" x=\"258.5\" y=\"-96.8\" font-family=\"Times,serif\" font-size=\"14.00\">class = virginica</text>\n</g>\n<!-- 3&#45;&gt;5 -->\n<g id=\"edge5\" class=\"edge\"><title>3&#45;&gt;5</title>\n<path fill=\"none\" stroke=\"black\" d=\"M257.149,-192.884C257.308,-184.778 257.481,-175.982 257.648,-167.472\"/>\n<polygon fill=\"black\" stroke=\"black\" points=\"261.15,-167.366 257.847,-157.299 254.152,-167.229 261.15,-167.366\"/>\n</g>\n<!-- 6 -->\n<g id=\"node7\" class=\"node\"><title>6</title>\n<polygon fill=\"#8139e5\" stroke=\"black\" points=\"182,-53 45,-53 45,-0 182,-0 182,-53\"/>\n<text text-anchor=\"middle\" x=\"113.5\" y=\"-37.8\" font-family=\"Times,serif\" font-size=\"14.00\">samples = 3</text>\n<text text-anchor=\"middle\" x=\"113.5\" y=\"-22.8\" font-family=\"Times,serif\" font-size=\"14.00\">value = [0, 0, 3]</text>\n<text text-anchor=\"middle\" x=\"113.5\" y=\"-7.8\" font-family=\"Times,serif\" font-size=\"14.00\">class = virginica</text>\n</g>\n<!-- 5&#45;&gt;6 -->\n<g id=\"edge6\" class=\"edge\"><title>5&#45;&gt;6</title>\n<path fill=\"none\" stroke=\"black\" d=\"M207.786,-88.9485C192.767,-79.1601 176.373,-68.4756 161.529,-58.8015\"/>\n<polygon fill=\"black\" stroke=\"black\" points=\"163.279,-55.7645 152.99,-53.2367 159.457,-61.629 163.279,-55.7645\"/>\n</g>\n<!-- 7 -->\n<g id=\"node8\" class=\"node\"><title>7</title>\n<polygon fill=\"#39e581\" stroke=\"black\" points=\"345,-53 200,-53 200,-0 345,-0 345,-53\"/>\n<text text-anchor=\"middle\" x=\"272.5\" y=\"-37.8\" font-family=\"Times,serif\" font-size=\"14.00\">samples = 1</text>\n<text text-anchor=\"middle\" x=\"272.5\" y=\"-22.8\" font-family=\"Times,serif\" font-size=\"14.00\">value = [0, 1, 0]</text>\n<text text-anchor=\"middle\" x=\"272.5\" y=\"-7.8\" font-family=\"Times,serif\" font-size=\"14.00\">class = versicolor</text>\n</g>\n<!-- 5&#45;&gt;7 -->\n<g id=\"edge7\" class=\"edge\"><title>5&#45;&gt;7</title>\n<path fill=\"none\" stroke=\"black\" d=\"M263.397,-88.9485C264.63,-80.6238 265.959,-71.6509 267.211,-63.2027\"/>\n<polygon fill=\"black\" stroke=\"black\" points=\"270.684,-63.6417 268.687,-53.2367 263.759,-62.6158 270.684,-63.6417\"/>\n</g>\n<!-- 9 -->\n<g id=\"node10\" class=\"node\"><title>9</title>\n<polygon fill=\"#8139e5\" fill-opacity=\"0.666667\" stroke=\"black\" points=\"572,-157 373,-157 373,-89 572,-89 572,-157\"/>\n<text text-anchor=\"middle\" x=\"472.5\" y=\"-141.8\" font-family=\"Times,serif\" font-size=\"14.00\">petal width (cm) &lt;= 1.65</text>\n<text text-anchor=\"middle\" x=\"472.5\" y=\"-126.8\" font-family=\"Times,serif\" font-size=\"14.00\">samples = 4</text>\n<text text-anchor=\"middle\" x=\"472.5\" y=\"-111.8\" font-family=\"Times,serif\" font-size=\"14.00\">value = [0, 1, 3]</text>\n<text text-anchor=\"middle\" x=\"472.5\" y=\"-96.8\" font-family=\"Times,serif\" font-size=\"14.00\">class = virginica</text>\n</g>\n<!-- 8&#45;&gt;9 -->\n<g id=\"edge9\" class=\"edge\"><title>8&#45;&gt;9</title>\n<path fill=\"none\" stroke=\"black\" d=\"M473.175,-192.884C473.096,-184.778 473.01,-175.982 472.926,-167.472\"/>\n<polygon fill=\"black\" stroke=\"black\" points=\"476.424,-167.265 472.826,-157.299 469.425,-167.333 476.424,-167.265\"/>\n</g>\n<!-- 12 -->\n<g id=\"node13\" class=\"node\"><title>12</title>\n<polygon fill=\"#8139e5\" stroke=\"black\" points=\"730.5,-149.5 590.5,-149.5 590.5,-96.5 730.5,-96.5 730.5,-149.5\"/>\n<text text-anchor=\"middle\" x=\"660.5\" y=\"-134.3\" font-family=\"Times,serif\" font-size=\"14.00\">samples = 35</text>\n<text text-anchor=\"middle\" x=\"660.5\" y=\"-119.3\" font-family=\"Times,serif\" font-size=\"14.00\">value = [0, 0, 35]</text>\n<text text-anchor=\"middle\" x=\"660.5\" y=\"-104.3\" font-family=\"Times,serif\" font-size=\"14.00\">class = virginica</text>\n</g>\n<!-- 8&#45;&gt;12 -->\n<g id=\"edge12\" class=\"edge\"><title>8&#45;&gt;12</title>\n<path fill=\"none\" stroke=\"black\" d=\"M534.214,-192.884C556.897,-180.511 582.528,-166.53 604.742,-154.413\"/>\n<polygon fill=\"black\" stroke=\"black\" points=\"606.61,-157.381 613.713,-149.52 603.258,-151.236 606.61,-157.381\"/>\n</g>\n<!-- 10 -->\n<g id=\"node11\" class=\"node\"><title>10</title>\n<polygon fill=\"#8139e5\" stroke=\"black\" points=\"527,-53 390,-53 390,-0 527,-0 527,-53\"/>\n<text text-anchor=\"middle\" x=\"458.5\" y=\"-37.8\" font-family=\"Times,serif\" font-size=\"14.00\">samples = 3</text>\n<text text-anchor=\"middle\" x=\"458.5\" y=\"-22.8\" font-family=\"Times,serif\" font-size=\"14.00\">value = [0, 0, 3]</text>\n<text text-anchor=\"middle\" x=\"458.5\" y=\"-7.8\" font-family=\"Times,serif\" font-size=\"14.00\">class = virginica</text>\n</g>\n<!-- 9&#45;&gt;10 -->\n<g id=\"edge10\" class=\"edge\"><title>9&#45;&gt;10</title>\n<path fill=\"none\" stroke=\"black\" d=\"M467.603,-88.9485C466.37,-80.6238 465.041,-71.6509 463.789,-63.2027\"/>\n<polygon fill=\"black\" stroke=\"black\" points=\"467.241,-62.6158 462.313,-53.2367 460.316,-63.6417 467.241,-62.6158\"/>\n</g>\n<!-- 11 -->\n<g id=\"node12\" class=\"node\"><title>11</title>\n<polygon fill=\"#39e581\" stroke=\"black\" points=\"690,-53 545,-53 545,-0 690,-0 690,-53\"/>\n<text text-anchor=\"middle\" x=\"617.5\" y=\"-37.8\" font-family=\"Times,serif\" font-size=\"14.00\">samples = 1</text>\n<text text-anchor=\"middle\" x=\"617.5\" y=\"-22.8\" font-family=\"Times,serif\" font-size=\"14.00\">value = [0, 1, 0]</text>\n<text text-anchor=\"middle\" x=\"617.5\" y=\"-7.8\" font-family=\"Times,serif\" font-size=\"14.00\">class = versicolor</text>\n</g>\n<!-- 9&#45;&gt;11 -->\n<g id=\"edge11\" class=\"edge\"><title>9&#45;&gt;11</title>\n<path fill=\"none\" stroke=\"black\" d=\"M523.214,-88.9485C538.233,-79.1601 554.627,-68.4756 569.471,-58.8015\"/>\n<polygon fill=\"black\" stroke=\"black\" points=\"571.543,-61.629 578.01,-53.2367 567.721,-55.7645 571.543,-61.629\"/>\n</g>\n</g>\n</svg>\n"
          },
          "metadata": {
            "tags": []
          }
        }
      ]
    },
    {
      "metadata": {
        "id": "CGf9fdlGf64v",
        "colab_type": "text"
      },
      "cell_type": "markdown",
      "source": [
        "After playing with the max_depth parameter, we can see that after a max depth of 4, our model always gives the same results. We can conclude that making our model's decision tree more complex doesn't make it more accurate. Inorder to get a better accuracy we must use another type of model.\n"
      ]
    }
  ]
}