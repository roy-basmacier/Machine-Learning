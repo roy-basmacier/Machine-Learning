{
  "nbformat": 4,
  "nbformat_minor": 0,
  "metadata": {
    "colab": {
      "name": "IrisDecisionTree.ipynb",
      "version": "0.3.2",
      "provenance": [],
      "collapsed_sections": [],
      "toc_visible": true
    },
    "kernelspec": {
      "name": "python3",
      "display_name": "Python 3"
    }
  },
  "cells": [
    {
      "metadata": {
        "id": "C8C09pdYZoZw",
        "colab_type": "text"
      },
      "cell_type": "markdown",
      "source": [
        "Importing necessary tools"
      ]
    },
    {
      "metadata": {
        "id": "kA22sa4B_6Lx",
        "colab_type": "code",
        "colab": {}
      },
      "cell_type": "code",
      "source": [
        "import numpy as np\n",
        "from sklearn.model_selection import train_test_split\n",
        "from sklearn.datasets import load_iris\n",
        "from sklearn.tree import DecisionTreeClassifier"
      ],
      "execution_count": 0,
      "outputs": []
    },
    {
      "metadata": {
        "id": "v0Y8Zl58Z2WR",
        "colab_type": "text"
      },
      "cell_type": "markdown",
      "source": [
        "Loading data into *iris*"
      ]
    },
    {
      "metadata": {
        "id": "LwOXREZnCK4Z",
        "colab_type": "code",
        "colab": {}
      },
      "cell_type": "code",
      "source": [
        "iris = load_iris()"
      ],
      "execution_count": 0,
      "outputs": []
    },
    {
      "metadata": {
        "id": "9aRdYZ-8CV7e",
        "colab_type": "code",
        "colab": {}
      },
      "cell_type": "code",
      "source": [
        "iris"
      ],
      "execution_count": 0,
      "outputs": []
    },
    {
      "metadata": {
        "id": "H_E4xsz2Ctdd",
        "colab_type": "text"
      },
      "cell_type": "markdown",
      "source": [
        "x is the data\n",
        "\n",
        "y is the answers I wanted prediction"
      ]
    },
    {
      "metadata": {
        "id": "w3TZY_xKCY4w",
        "colab_type": "code",
        "colab": {}
      },
      "cell_type": "code",
      "source": [
        "x = iris.data\n",
        "y = iris.target"
      ],
      "execution_count": 0,
      "outputs": []
    },
    {
      "metadata": {
        "id": "Fwlg3OcTDLgM",
        "colab_type": "code",
        "colab": {
          "base_uri": "https://localhost:8080/",
          "height": 51
        },
        "outputId": "3c1a3484-1de5-4dff-dec0-e4f9905203cb"
      },
      "cell_type": "code",
      "source": [
        "print('x size is', x.shape)\n",
        "print('y size is', y.shape)"
      ],
      "execution_count": 5,
      "outputs": [
        {
          "output_type": "stream",
          "text": [
            "x size is (150, 4)\n",
            "y size is (150,)\n"
          ],
          "name": "stdout"
        }
      ]
    },
    {
      "metadata": {
        "id": "K4gSilPhaOTS",
        "colab_type": "text"
      },
      "cell_type": "markdown",
      "source": [
        "Spliting the training data and the testing data"
      ]
    },
    {
      "metadata": {
        "id": "XhMpWfwiCduR",
        "colab_type": "code",
        "colab": {}
      },
      "cell_type": "code",
      "source": [
        "x_train, x_test, y_train, y_test = train_test_split(x, y, random_state=0)"
      ],
      "execution_count": 0,
      "outputs": []
    },
    {
      "metadata": {
        "id": "S1wSaMwWCdxA",
        "colab_type": "code",
        "colab": {
          "base_uri": "https://localhost:8080/",
          "height": 51
        },
        "outputId": "a8f9fc4b-0a21-45b0-c2d3-19c7e78b347d"
      },
      "cell_type": "code",
      "source": [
        "print('x_train size is', x_train.shape)\n",
        "print('x_test  size is', x_test.shape)"
      ],
      "execution_count": 7,
      "outputs": [
        {
          "output_type": "stream",
          "text": [
            "x_train size is (112, 4)\n",
            "x_test  size is (38, 4)\n"
          ],
          "name": "stdout"
        }
      ]
    },
    {
      "metadata": {
        "id": "nxLajRX_aU9m",
        "colab_type": "text"
      },
      "cell_type": "markdown",
      "source": [
        "Creating a model with max decision depth 2.\n",
        "\n",
        "Increasing the *max_depth* will make the model better but too much and it will start to memorize the training data causing it to overfit."
      ]
    },
    {
      "metadata": {
        "id": "Q6dV6OVDCdzt",
        "colab_type": "code",
        "colab": {}
      },
      "cell_type": "code",
      "source": [
        "estimator = DecisionTreeClassifier(max_depth=2)"
      ],
      "execution_count": 0,
      "outputs": []
    },
    {
      "metadata": {
        "id": "5BCcQqodDvFH",
        "colab_type": "code",
        "colab": {
          "base_uri": "https://localhost:8080/",
          "height": 119
        },
        "outputId": "67a348d9-da18-4c30-e28f-d5220144b3ff"
      },
      "cell_type": "code",
      "source": [
        "estimator"
      ],
      "execution_count": 9,
      "outputs": [
        {
          "output_type": "execute_result",
          "data": {
            "text/plain": [
              "DecisionTreeClassifier(class_weight=None, criterion='gini', max_depth=2,\n",
              "            max_features=None, max_leaf_nodes=None,\n",
              "            min_impurity_decrease=0.0, min_impurity_split=None,\n",
              "            min_samples_leaf=1, min_samples_split=2,\n",
              "            min_weight_fraction_leaf=0.0, presort=False, random_state=None,\n",
              "            splitter='best')"
            ]
          },
          "metadata": {
            "tags": []
          },
          "execution_count": 9
        }
      ]
    },
    {
      "metadata": {
        "id": "H3IZW1LJbSAS",
        "colab_type": "text"
      },
      "cell_type": "markdown",
      "source": [
        "Training the model, letting it generalize the given data."
      ]
    },
    {
      "metadata": {
        "id": "JKZorjW0D2R9",
        "colab_type": "code",
        "colab": {
          "base_uri": "https://localhost:8080/",
          "height": 119
        },
        "outputId": "fb5cad2e-e16a-44f2-bf84-44c76bcd814e"
      },
      "cell_type": "code",
      "source": [
        "estimator.fit(x_train, y_train)"
      ],
      "execution_count": 10,
      "outputs": [
        {
          "output_type": "execute_result",
          "data": {
            "text/plain": [
              "DecisionTreeClassifier(class_weight=None, criterion='gini', max_depth=2,\n",
              "            max_features=None, max_leaf_nodes=None,\n",
              "            min_impurity_decrease=0.0, min_impurity_split=None,\n",
              "            min_samples_leaf=1, min_samples_split=2,\n",
              "            min_weight_fraction_leaf=0.0, presort=False, random_state=None,\n",
              "            splitter='best')"
            ]
          },
          "metadata": {
            "tags": []
          },
          "execution_count": 10
        }
      ]
    },
    {
      "metadata": {
        "id": "2gPJ0DAAcKdv",
        "colab_type": "text"
      },
      "cell_type": "markdown",
      "source": [
        "After training the model, we will use it on the test data which we splited previously"
      ]
    },
    {
      "metadata": {
        "id": "SgwLQuVeD2ZE",
        "colab_type": "code",
        "colab": {}
      },
      "cell_type": "code",
      "source": [
        "y_predict = estimator.predict(x_test)"
      ],
      "execution_count": 0,
      "outputs": []
    },
    {
      "metadata": {
        "id": "MGo9QlL4D2eo",
        "colab_type": "code",
        "colab": {
          "base_uri": "https://localhost:8080/",
          "height": 85
        },
        "outputId": "2ea5bab8-497c-45ae-8a0b-36e0d357f87e"
      },
      "cell_type": "code",
      "source": [
        "y_predict, y_test"
      ],
      "execution_count": 12,
      "outputs": [
        {
          "output_type": "execute_result",
          "data": {
            "text/plain": [
              "(array([2, 1, 0, 2, 0, 2, 0, 1, 1, 1, 2, 1, 1, 1, 1, 0, 1, 1, 0, 0, 1, 1,\n",
              "        0, 0, 1, 0, 0, 1, 1, 0, 2, 1, 0, 1, 2, 1, 0, 2]),\n",
              " array([2, 1, 0, 2, 0, 2, 0, 1, 1, 1, 2, 1, 1, 1, 1, 0, 1, 1, 0, 0, 2, 1,\n",
              "        0, 0, 2, 0, 0, 1, 1, 0, 2, 1, 0, 2, 2, 1, 0, 1]))"
            ]
          },
          "metadata": {
            "tags": []
          },
          "execution_count": 12
        }
      ]
    },
    {
      "metadata": {
        "id": "XISIGwMkD2iI",
        "colab_type": "code",
        "colab": {
          "base_uri": "https://localhost:8080/",
          "height": 34
        },
        "outputId": "e45b3c2b-aa68-4ec3-d5c6-592f4ab9723d"
      },
      "cell_type": "code",
      "source": [
        "correct_labels = sum(y_predict == y_test)\n",
        "correct_labels"
      ],
      "execution_count": 13,
      "outputs": [
        {
          "output_type": "execute_result",
          "data": {
            "text/plain": [
              "34"
            ]
          },
          "metadata": {
            "tags": []
          },
          "execution_count": 13
        }
      ]
    },
    {
      "metadata": {
        "id": "TvuJBcIzD2wb",
        "colab_type": "code",
        "colab": {
          "base_uri": "https://localhost:8080/",
          "height": 34
        },
        "outputId": "6ee85757-5fb6-4b84-bc08-d0edac5fd682"
      },
      "cell_type": "code",
      "source": [
        "len(y_predict)"
      ],
      "execution_count": 14,
      "outputs": [
        {
          "output_type": "execute_result",
          "data": {
            "text/plain": [
              "38"
            ]
          },
          "metadata": {
            "tags": []
          },
          "execution_count": 14
        }
      ]
    },
    {
      "metadata": {
        "id": "xje8TkK0D2cO",
        "colab_type": "code",
        "colab": {
          "base_uri": "https://localhost:8080/",
          "height": 34
        },
        "outputId": "496f842f-d22e-463e-f2d6-193a72e1c5ee"
      },
      "cell_type": "code",
      "source": [
        "print('Accuracy:', correct_labels/len(y_predict))"
      ],
      "execution_count": 15,
      "outputs": [
        {
          "output_type": "stream",
          "text": [
            "Accuracy: 0.8947368421052632\n"
          ],
          "name": "stdout"
        }
      ]
    },
    {
      "metadata": {
        "id": "KGAxt4Zoc74b",
        "colab_type": "text"
      },
      "cell_type": "markdown",
      "source": [
        "Accuracy is 89% but this can be better by increasing the *max_depth* parameter"
      ]
    },
    {
      "metadata": {
        "id": "Rr-qyhQmdIZz",
        "colab_type": "text"
      },
      "cell_type": "markdown",
      "source": [
        "Using graphviz to visualize the tree graph our model made"
      ]
    },
    {
      "metadata": {
        "id": "uTD_5JfwEoWR",
        "colab_type": "code",
        "colab": {}
      },
      "cell_type": "code",
      "source": [
        "from sklearn.tree import export_graphviz\n",
        "export_graphviz(estimator, out_file=\"tree.dot\", class_names=iris.target_names,\n",
        "                feature_names=iris.feature_names, impurity=False, filled=True)"
      ],
      "execution_count": 0,
      "outputs": []
    },
    {
      "metadata": {
        "id": "VE9iWYpINVCZ",
        "colab_type": "code",
        "colab": {}
      },
      "cell_type": "code",
      "source": [
        "!apt-get install graphviz -y\n",
        "!pip install graphviz"
      ],
      "execution_count": 0,
      "outputs": []
    },
    {
      "metadata": {
        "id": "NeJpzgFBPZmo",
        "colab_type": "code",
        "colab": {
          "base_uri": "https://localhost:8080/",
          "height": 380
        },
        "outputId": "8e98ffb5-bfa1-4cce-af0d-b8ec4deee42f"
      },
      "cell_type": "code",
      "source": [
        "import graphviz as gv\n",
        "\n",
        "with open(\"tree.dot\") as f:\n",
        "  dot_graph = f.read()\n",
        "display(gv.Source(dot_graph))"
      ],
      "execution_count": 18,
      "outputs": [
        {
          "output_type": "display_data",
          "data": {
            "text/plain": [
              "<graphviz.files.Source at 0x7f21287bd048>"
            ],
            "image/svg+xml": "<?xml version=\"1.0\" encoding=\"UTF-8\" standalone=\"no\"?>\n<!DOCTYPE svg PUBLIC \"-//W3C//DTD SVG 1.1//EN\"\n \"http://www.w3.org/Graphics/SVG/1.1/DTD/svg11.dtd\">\n<!-- Generated by graphviz version 2.38.0 (20140413.2041)\n -->\n<!-- Title: Tree Pages: 1 -->\n<svg width=\"418pt\" height=\"269pt\"\n viewBox=\"0.00 0.00 418.00 269.00\" xmlns=\"http://www.w3.org/2000/svg\" xmlns:xlink=\"http://www.w3.org/1999/xlink\">\n<g id=\"graph0\" class=\"graph\" transform=\"scale(1 1) rotate(0) translate(4 265)\">\n<title>Tree</title>\n<polygon fill=\"white\" stroke=\"none\" points=\"-4,4 -4,-265 414,-265 414,4 -4,4\"/>\n<!-- 0 -->\n<g id=\"node1\" class=\"node\"><title>0</title>\n<polygon fill=\"#8139e5\" fill-opacity=\"0.054902\" stroke=\"black\" points=\"260,-261 70,-261 70,-193 260,-193 260,-261\"/>\n<text text-anchor=\"middle\" x=\"165\" y=\"-245.8\" font-family=\"Times,serif\" font-size=\"14.00\">petal width (cm) &lt;= 0.8</text>\n<text text-anchor=\"middle\" x=\"165\" y=\"-230.8\" font-family=\"Times,serif\" font-size=\"14.00\">samples = 112</text>\n<text text-anchor=\"middle\" x=\"165\" y=\"-215.8\" font-family=\"Times,serif\" font-size=\"14.00\">value = [37, 34, 41]</text>\n<text text-anchor=\"middle\" x=\"165\" y=\"-200.8\" font-family=\"Times,serif\" font-size=\"14.00\">class = virginica</text>\n</g>\n<!-- 1 -->\n<g id=\"node2\" class=\"node\"><title>1</title>\n<polygon fill=\"#e58139\" stroke=\"black\" points=\"140,-149.5 0,-149.5 0,-96.5 140,-96.5 140,-149.5\"/>\n<text text-anchor=\"middle\" x=\"70\" y=\"-134.3\" font-family=\"Times,serif\" font-size=\"14.00\">samples = 37</text>\n<text text-anchor=\"middle\" x=\"70\" y=\"-119.3\" font-family=\"Times,serif\" font-size=\"14.00\">value = [37, 0, 0]</text>\n<text text-anchor=\"middle\" x=\"70\" y=\"-104.3\" font-family=\"Times,serif\" font-size=\"14.00\">class = setosa</text>\n</g>\n<!-- 0&#45;&gt;1 -->\n<g id=\"edge1\" class=\"edge\"><title>0&#45;&gt;1</title>\n<path fill=\"none\" stroke=\"black\" d=\"M134.156,-192.884C123.401,-181.336 111.341,-168.387 100.605,-156.86\"/>\n<polygon fill=\"black\" stroke=\"black\" points=\"103.145,-154.452 93.7686,-149.52 98.0229,-159.223 103.145,-154.452\"/>\n<text text-anchor=\"middle\" x=\"92.8808\" y=\"-170.804\" font-family=\"Times,serif\" font-size=\"14.00\">True</text>\n</g>\n<!-- 2 -->\n<g id=\"node3\" class=\"node\"><title>2</title>\n<polygon fill=\"#8139e5\" fill-opacity=\"0.172549\" stroke=\"black\" points=\"362,-157 158,-157 158,-89 362,-89 362,-157\"/>\n<text text-anchor=\"middle\" x=\"260\" y=\"-141.8\" font-family=\"Times,serif\" font-size=\"14.00\">petal length (cm) &lt;= 4.95</text>\n<text text-anchor=\"middle\" x=\"260\" y=\"-126.8\" font-family=\"Times,serif\" font-size=\"14.00\">samples = 75</text>\n<text text-anchor=\"middle\" x=\"260\" y=\"-111.8\" font-family=\"Times,serif\" font-size=\"14.00\">value = [0, 34, 41]</text>\n<text text-anchor=\"middle\" x=\"260\" y=\"-96.8\" font-family=\"Times,serif\" font-size=\"14.00\">class = virginica</text>\n</g>\n<!-- 0&#45;&gt;2 -->\n<g id=\"edge2\" class=\"edge\"><title>0&#45;&gt;2</title>\n<path fill=\"none\" stroke=\"black\" d=\"M195.844,-192.884C204.223,-183.887 213.394,-174.041 222.113,-164.678\"/>\n<polygon fill=\"black\" stroke=\"black\" points=\"224.732,-167.003 228.986,-157.299 219.609,-162.232 224.732,-167.003\"/>\n<text text-anchor=\"middle\" x=\"229.874\" y=\"-178.584\" font-family=\"Times,serif\" font-size=\"14.00\">False</text>\n</g>\n<!-- 3 -->\n<g id=\"node4\" class=\"node\"><title>3</title>\n<polygon fill=\"#39e581\" fill-opacity=\"0.909804\" stroke=\"black\" points=\"251.5,-53 106.5,-53 106.5,-0 251.5,-0 251.5,-53\"/>\n<text text-anchor=\"middle\" x=\"179\" y=\"-37.8\" font-family=\"Times,serif\" font-size=\"14.00\">samples = 36</text>\n<text text-anchor=\"middle\" x=\"179\" y=\"-22.8\" font-family=\"Times,serif\" font-size=\"14.00\">value = [0, 33, 3]</text>\n<text text-anchor=\"middle\" x=\"179\" y=\"-7.8\" font-family=\"Times,serif\" font-size=\"14.00\">class = versicolor</text>\n</g>\n<!-- 2&#45;&gt;3 -->\n<g id=\"edge3\" class=\"edge\"><title>2&#45;&gt;3</title>\n<path fill=\"none\" stroke=\"black\" d=\"M231.67,-88.9485C223.907,-79.892 215.487,-70.0682 207.704,-60.9875\"/>\n<polygon fill=\"black\" stroke=\"black\" points=\"210.225,-58.5515 201.06,-53.2367 204.911,-63.1071 210.225,-58.5515\"/>\n</g>\n<!-- 4 -->\n<g id=\"node5\" class=\"node\"><title>4</title>\n<polygon fill=\"#8139e5\" fill-opacity=\"0.972549\" stroke=\"black\" points=\"410,-53 270,-53 270,-0 410,-0 410,-53\"/>\n<text text-anchor=\"middle\" x=\"340\" y=\"-37.8\" font-family=\"Times,serif\" font-size=\"14.00\">samples = 39</text>\n<text text-anchor=\"middle\" x=\"340\" y=\"-22.8\" font-family=\"Times,serif\" font-size=\"14.00\">value = [0, 1, 38]</text>\n<text text-anchor=\"middle\" x=\"340\" y=\"-7.8\" font-family=\"Times,serif\" font-size=\"14.00\">class = virginica</text>\n</g>\n<!-- 2&#45;&gt;4 -->\n<g id=\"edge4\" class=\"edge\"><title>2&#45;&gt;4</title>\n<path fill=\"none\" stroke=\"black\" d=\"M287.98,-88.9485C295.647,-79.892 303.963,-70.0682 311.651,-60.9875\"/>\n<polygon fill=\"black\" stroke=\"black\" points=\"314.422,-63.1305 318.212,-53.2367 309.08,-58.6076 314.422,-63.1305\"/>\n</g>\n</g>\n</svg>\n"
          },
          "metadata": {
            "tags": []
          }
        }
      ]
    },
    {
      "metadata": {
        "id": "Leqo4zsQdUgj",
        "colab_type": "text"
      },
      "cell_type": "markdown",
      "source": [
        "This time we will make the *max_depth* 5"
      ]
    },
    {
      "metadata": {
        "id": "1NM9zfu_Pe-U",
        "colab_type": "code",
        "colab": {}
      },
      "cell_type": "code",
      "source": [
        "estimator = DecisionTreeClassifier(max_depth=5)"
      ],
      "execution_count": 0,
      "outputs": []
    },
    {
      "metadata": {
        "id": "fV2jI-7NPsPm",
        "colab_type": "code",
        "colab": {
          "base_uri": "https://localhost:8080/",
          "height": 119
        },
        "outputId": "b1808e88-4c29-43d0-cf6b-f24f77d3364b"
      },
      "cell_type": "code",
      "source": [
        "estimator"
      ],
      "execution_count": 20,
      "outputs": [
        {
          "output_type": "execute_result",
          "data": {
            "text/plain": [
              "DecisionTreeClassifier(class_weight=None, criterion='gini', max_depth=5,\n",
              "            max_features=None, max_leaf_nodes=None,\n",
              "            min_impurity_decrease=0.0, min_impurity_split=None,\n",
              "            min_samples_leaf=1, min_samples_split=2,\n",
              "            min_weight_fraction_leaf=0.0, presort=False, random_state=None,\n",
              "            splitter='best')"
            ]
          },
          "metadata": {
            "tags": []
          },
          "execution_count": 20
        }
      ]
    },
    {
      "metadata": {
        "id": "wkoGLO5QPueN",
        "colab_type": "code",
        "colab": {
          "base_uri": "https://localhost:8080/",
          "height": 119
        },
        "outputId": "29d3133e-93b7-4c3b-a10f-7aeaf5225d96"
      },
      "cell_type": "code",
      "source": [
        "estimator.fit(x_train, y_train)"
      ],
      "execution_count": 21,
      "outputs": [
        {
          "output_type": "execute_result",
          "data": {
            "text/plain": [
              "DecisionTreeClassifier(class_weight=None, criterion='gini', max_depth=5,\n",
              "            max_features=None, max_leaf_nodes=None,\n",
              "            min_impurity_decrease=0.0, min_impurity_split=None,\n",
              "            min_samples_leaf=1, min_samples_split=2,\n",
              "            min_weight_fraction_leaf=0.0, presort=False, random_state=None,\n",
              "            splitter='best')"
            ]
          },
          "metadata": {
            "tags": []
          },
          "execution_count": 21
        }
      ]
    },
    {
      "metadata": {
        "id": "Ptd1Pbo2P1pm",
        "colab_type": "code",
        "colab": {}
      },
      "cell_type": "code",
      "source": [
        "y_predict = estimator.predict(x_test)"
      ],
      "execution_count": 0,
      "outputs": []
    },
    {
      "metadata": {
        "id": "1xHvJDlkQDqp",
        "colab_type": "code",
        "colab": {
          "base_uri": "https://localhost:8080/",
          "height": 34
        },
        "outputId": "3daab7cc-083b-49ee-bf47-ee052e237ad9"
      },
      "cell_type": "code",
      "source": [
        "correct_labels = sum(y_predict == y_test)\n",
        "correct_labels"
      ],
      "execution_count": 23,
      "outputs": [
        {
          "output_type": "execute_result",
          "data": {
            "text/plain": [
              "37"
            ]
          },
          "metadata": {
            "tags": []
          },
          "execution_count": 23
        }
      ]
    },
    {
      "metadata": {
        "id": "sw1uRcRWQluf",
        "colab_type": "code",
        "colab": {
          "base_uri": "https://localhost:8080/",
          "height": 34
        },
        "outputId": "d909c2dc-cf52-4e35-c0dc-a8af799d6072"
      },
      "cell_type": "code",
      "source": [
        "print(\"Accuracy:\", correct_labels/len(y_predict))"
      ],
      "execution_count": 24,
      "outputs": [
        {
          "output_type": "stream",
          "text": [
            "Accuracy: 0.9736842105263158\n"
          ],
          "name": "stdout"
        }
      ]
    },
    {
      "metadata": {
        "id": "a7xBGnzRdekv",
        "colab_type": "text"
      },
      "cell_type": "markdown",
      "source": [
        "The accuracy increased from 89% to 97%"
      ]
    },
    {
      "metadata": {
        "id": "PuEkIaIVQ8jL",
        "colab_type": "code",
        "colab": {}
      },
      "cell_type": "code",
      "source": [
        "from sklearn.tree import export_graphviz\n",
        "export_graphviz(estimator, out_file=\"tree.dot\", class_names=iris.target_names,\n",
        "                feature_names=iris.feature_names, impurity=False, filled=True)"
      ],
      "execution_count": 0,
      "outputs": []
    },
    {
      "metadata": {
        "id": "uc-OmocvQ-SY",
        "colab_type": "code",
        "colab": {
          "base_uri": "https://localhost:8080/",
          "height": 677
        },
        "outputId": "7f365fc1-e209-4847-d813-40465ff29cd1"
      },
      "cell_type": "code",
      "source": [
        "import graphviz as gv\n",
        "\n",
        "with open(\"tree.dot\") as f:\n",
        "  dot_graph = f.read()\n",
        "display(gv.Source(dot_graph))"
      ],
      "execution_count": 26,
      "outputs": [
        {
          "output_type": "display_data",
          "data": {
            "text/plain": [
              "<graphviz.files.Source at 0x7f210fecb6d8>"
            ],
            "image/svg+xml": "<?xml version=\"1.0\" encoding=\"UTF-8\" standalone=\"no\"?>\n<!DOCTYPE svg PUBLIC \"-//W3C//DTD SVG 1.1//EN\"\n \"http://www.w3.org/Graphics/SVG/1.1/DTD/svg11.dtd\">\n<!-- Generated by graphviz version 2.38.0 (20140413.2041)\n -->\n<!-- Title: Tree Pages: 1 -->\n<svg width=\"741pt\" height=\"477pt\"\n viewBox=\"0.00 0.00 740.50 477.00\" xmlns=\"http://www.w3.org/2000/svg\" xmlns:xlink=\"http://www.w3.org/1999/xlink\">\n<g id=\"graph0\" class=\"graph\" transform=\"scale(1 1) rotate(0) translate(4 473)\">\n<title>Tree</title>\n<polygon fill=\"white\" stroke=\"none\" points=\"-4,4 -4,-473 736.5,-473 736.5,4 -4,4\"/>\n<!-- 0 -->\n<g id=\"node1\" class=\"node\"><title>0</title>\n<polygon fill=\"#8139e5\" fill-opacity=\"0.054902\" stroke=\"black\" points=\"372.5,-469 168.5,-469 168.5,-401 372.5,-401 372.5,-469\"/>\n<text text-anchor=\"middle\" x=\"270.5\" y=\"-453.8\" font-family=\"Times,serif\" font-size=\"14.00\">petal length (cm) &lt;= 2.35</text>\n<text text-anchor=\"middle\" x=\"270.5\" y=\"-438.8\" font-family=\"Times,serif\" font-size=\"14.00\">samples = 112</text>\n<text text-anchor=\"middle\" x=\"270.5\" y=\"-423.8\" font-family=\"Times,serif\" font-size=\"14.00\">value = [37, 34, 41]</text>\n<text text-anchor=\"middle\" x=\"270.5\" y=\"-408.8\" font-family=\"Times,serif\" font-size=\"14.00\">class = virginica</text>\n</g>\n<!-- 1 -->\n<g id=\"node2\" class=\"node\"><title>1</title>\n<polygon fill=\"#e58139\" stroke=\"black\" points=\"245.5,-357.5 105.5,-357.5 105.5,-304.5 245.5,-304.5 245.5,-357.5\"/>\n<text text-anchor=\"middle\" x=\"175.5\" y=\"-342.3\" font-family=\"Times,serif\" font-size=\"14.00\">samples = 37</text>\n<text text-anchor=\"middle\" x=\"175.5\" y=\"-327.3\" font-family=\"Times,serif\" font-size=\"14.00\">value = [37, 0, 0]</text>\n<text text-anchor=\"middle\" x=\"175.5\" y=\"-312.3\" font-family=\"Times,serif\" font-size=\"14.00\">class = setosa</text>\n</g>\n<!-- 0&#45;&gt;1 -->\n<g id=\"edge1\" class=\"edge\"><title>0&#45;&gt;1</title>\n<path fill=\"none\" stroke=\"black\" d=\"M239.656,-400.884C228.901,-389.336 216.841,-376.387 206.105,-364.86\"/>\n<polygon fill=\"black\" stroke=\"black\" points=\"208.645,-362.452 199.269,-357.52 203.523,-367.223 208.645,-362.452\"/>\n<text text-anchor=\"middle\" x=\"198.381\" y=\"-378.804\" font-family=\"Times,serif\" font-size=\"14.00\">True</text>\n</g>\n<!-- 2 -->\n<g id=\"node3\" class=\"node\"><title>2</title>\n<polygon fill=\"#8139e5\" fill-opacity=\"0.172549\" stroke=\"black\" points=\"467.5,-365 263.5,-365 263.5,-297 467.5,-297 467.5,-365\"/>\n<text text-anchor=\"middle\" x=\"365.5\" y=\"-349.8\" font-family=\"Times,serif\" font-size=\"14.00\">petal length (cm) &lt;= 4.95</text>\n<text text-anchor=\"middle\" x=\"365.5\" y=\"-334.8\" font-family=\"Times,serif\" font-size=\"14.00\">samples = 75</text>\n<text text-anchor=\"middle\" x=\"365.5\" y=\"-319.8\" font-family=\"Times,serif\" font-size=\"14.00\">value = [0, 34, 41]</text>\n<text text-anchor=\"middle\" x=\"365.5\" y=\"-304.8\" font-family=\"Times,serif\" font-size=\"14.00\">class = virginica</text>\n</g>\n<!-- 0&#45;&gt;2 -->\n<g id=\"edge2\" class=\"edge\"><title>0&#45;&gt;2</title>\n<path fill=\"none\" stroke=\"black\" d=\"M301.344,-400.884C309.723,-391.887 318.894,-382.041 327.613,-372.678\"/>\n<polygon fill=\"black\" stroke=\"black\" points=\"330.232,-375.003 334.486,-365.299 325.109,-370.232 330.232,-375.003\"/>\n<text text-anchor=\"middle\" x=\"335.374\" y=\"-386.584\" font-family=\"Times,serif\" font-size=\"14.00\">False</text>\n</g>\n<!-- 3 -->\n<g id=\"node4\" class=\"node\"><title>3</title>\n<polygon fill=\"#39e581\" fill-opacity=\"0.909804\" stroke=\"black\" points=\"355,-261 156,-261 156,-193 355,-193 355,-261\"/>\n<text text-anchor=\"middle\" x=\"255.5\" y=\"-245.8\" font-family=\"Times,serif\" font-size=\"14.00\">petal width (cm) &lt;= 1.65</text>\n<text text-anchor=\"middle\" x=\"255.5\" y=\"-230.8\" font-family=\"Times,serif\" font-size=\"14.00\">samples = 36</text>\n<text text-anchor=\"middle\" x=\"255.5\" y=\"-215.8\" font-family=\"Times,serif\" font-size=\"14.00\">value = [0, 33, 3]</text>\n<text text-anchor=\"middle\" x=\"255.5\" y=\"-200.8\" font-family=\"Times,serif\" font-size=\"14.00\">class = versicolor</text>\n</g>\n<!-- 2&#45;&gt;3 -->\n<g id=\"edge3\" class=\"edge\"><title>2&#45;&gt;3</title>\n<path fill=\"none\" stroke=\"black\" d=\"M329.786,-296.884C319.892,-287.709 309.044,-277.65 298.77,-268.123\"/>\n<polygon fill=\"black\" stroke=\"black\" points=\"301.124,-265.532 291.411,-261.299 296.364,-270.665 301.124,-265.532\"/>\n</g>\n<!-- 8 -->\n<g id=\"node9\" class=\"node\"><title>8</title>\n<polygon fill=\"#8139e5\" fill-opacity=\"0.972549\" stroke=\"black\" points=\"577.5,-261 373.5,-261 373.5,-193 577.5,-193 577.5,-261\"/>\n<text text-anchor=\"middle\" x=\"475.5\" y=\"-245.8\" font-family=\"Times,serif\" font-size=\"14.00\">petal length (cm) &lt;= 5.05</text>\n<text text-anchor=\"middle\" x=\"475.5\" y=\"-230.8\" font-family=\"Times,serif\" font-size=\"14.00\">samples = 39</text>\n<text text-anchor=\"middle\" x=\"475.5\" y=\"-215.8\" font-family=\"Times,serif\" font-size=\"14.00\">value = [0, 1, 38]</text>\n<text text-anchor=\"middle\" x=\"475.5\" y=\"-200.8\" font-family=\"Times,serif\" font-size=\"14.00\">class = virginica</text>\n</g>\n<!-- 2&#45;&gt;8 -->\n<g id=\"edge8\" class=\"edge\"><title>2&#45;&gt;8</title>\n<path fill=\"none\" stroke=\"black\" d=\"M401.214,-296.884C411.108,-287.709 421.956,-277.65 432.23,-268.123\"/>\n<polygon fill=\"black\" stroke=\"black\" points=\"434.636,-270.665 439.589,-261.299 429.876,-265.532 434.636,-270.665\"/>\n</g>\n<!-- 4 -->\n<g id=\"node5\" class=\"node\"><title>4</title>\n<polygon fill=\"#39e581\" stroke=\"black\" points=\"145,-149.5 0,-149.5 0,-96.5 145,-96.5 145,-149.5\"/>\n<text text-anchor=\"middle\" x=\"72.5\" y=\"-134.3\" font-family=\"Times,serif\" font-size=\"14.00\">samples = 32</text>\n<text text-anchor=\"middle\" x=\"72.5\" y=\"-119.3\" font-family=\"Times,serif\" font-size=\"14.00\">value = [0, 32, 0]</text>\n<text text-anchor=\"middle\" x=\"72.5\" y=\"-104.3\" font-family=\"Times,serif\" font-size=\"14.00\">class = versicolor</text>\n</g>\n<!-- 3&#45;&gt;4 -->\n<g id=\"edge4\" class=\"edge\"><title>3&#45;&gt;4</title>\n<path fill=\"none\" stroke=\"black\" d=\"M196.085,-192.884C173.887,-180.511 148.805,-166.53 127.065,-154.413\"/>\n<polygon fill=\"black\" stroke=\"black\" points=\"128.725,-151.331 118.286,-149.52 125.317,-157.446 128.725,-151.331\"/>\n</g>\n<!-- 5 -->\n<g id=\"node6\" class=\"node\"><title>5</title>\n<polygon fill=\"#8139e5\" fill-opacity=\"0.666667\" stroke=\"black\" points=\"354,-157 163,-157 163,-89 354,-89 354,-157\"/>\n<text text-anchor=\"middle\" x=\"258.5\" y=\"-141.8\" font-family=\"Times,serif\" font-size=\"14.00\">sepal width (cm) &lt;= 3.1</text>\n<text text-anchor=\"middle\" x=\"258.5\" y=\"-126.8\" font-family=\"Times,serif\" font-size=\"14.00\">samples = 4</text>\n<text text-anchor=\"middle\" x=\"258.5\" y=\"-111.8\" font-family=\"Times,serif\" font-size=\"14.00\">value = [0, 1, 3]</text>\n<text text-anchor=\"middle\" x=\"258.5\" y=\"-96.8\" font-family=\"Times,serif\" font-size=\"14.00\">class = virginica</text>\n</g>\n<!-- 3&#45;&gt;5 -->\n<g id=\"edge5\" class=\"edge\"><title>3&#45;&gt;5</title>\n<path fill=\"none\" stroke=\"black\" d=\"M256.474,-192.884C256.712,-184.778 256.971,-175.982 257.221,-167.472\"/>\n<polygon fill=\"black\" stroke=\"black\" points=\"260.725,-167.398 257.521,-157.299 253.728,-167.192 260.725,-167.398\"/>\n</g>\n<!-- 6 -->\n<g id=\"node7\" class=\"node\"><title>6</title>\n<polygon fill=\"#8139e5\" stroke=\"black\" points=\"182,-53 45,-53 45,-0 182,-0 182,-53\"/>\n<text text-anchor=\"middle\" x=\"113.5\" y=\"-37.8\" font-family=\"Times,serif\" font-size=\"14.00\">samples = 3</text>\n<text text-anchor=\"middle\" x=\"113.5\" y=\"-22.8\" font-family=\"Times,serif\" font-size=\"14.00\">value = [0, 0, 3]</text>\n<text text-anchor=\"middle\" x=\"113.5\" y=\"-7.8\" font-family=\"Times,serif\" font-size=\"14.00\">class = virginica</text>\n</g>\n<!-- 5&#45;&gt;6 -->\n<g id=\"edge6\" class=\"edge\"><title>5&#45;&gt;6</title>\n<path fill=\"none\" stroke=\"black\" d=\"M207.786,-88.9485C192.767,-79.1601 176.373,-68.4756 161.529,-58.8015\"/>\n<polygon fill=\"black\" stroke=\"black\" points=\"163.279,-55.7645 152.99,-53.2367 159.457,-61.629 163.279,-55.7645\"/>\n</g>\n<!-- 7 -->\n<g id=\"node8\" class=\"node\"><title>7</title>\n<polygon fill=\"#39e581\" stroke=\"black\" points=\"345,-53 200,-53 200,-0 345,-0 345,-53\"/>\n<text text-anchor=\"middle\" x=\"272.5\" y=\"-37.8\" font-family=\"Times,serif\" font-size=\"14.00\">samples = 1</text>\n<text text-anchor=\"middle\" x=\"272.5\" y=\"-22.8\" font-family=\"Times,serif\" font-size=\"14.00\">value = [0, 1, 0]</text>\n<text text-anchor=\"middle\" x=\"272.5\" y=\"-7.8\" font-family=\"Times,serif\" font-size=\"14.00\">class = versicolor</text>\n</g>\n<!-- 5&#45;&gt;7 -->\n<g id=\"edge7\" class=\"edge\"><title>5&#45;&gt;7</title>\n<path fill=\"none\" stroke=\"black\" d=\"M263.397,-88.9485C264.63,-80.6238 265.959,-71.6509 267.211,-63.2027\"/>\n<polygon fill=\"black\" stroke=\"black\" points=\"270.684,-63.6417 268.687,-53.2367 263.759,-62.6158 270.684,-63.6417\"/>\n</g>\n<!-- 9 -->\n<g id=\"node10\" class=\"node\"><title>9</title>\n<polygon fill=\"#8139e5\" fill-opacity=\"0.666667\" stroke=\"black\" points=\"574.5,-157 374.5,-157 374.5,-89 574.5,-89 574.5,-157\"/>\n<text text-anchor=\"middle\" x=\"474.5\" y=\"-141.8\" font-family=\"Times,serif\" font-size=\"14.00\">sepal width (cm) &lt;= 2.75</text>\n<text text-anchor=\"middle\" x=\"474.5\" y=\"-126.8\" font-family=\"Times,serif\" font-size=\"14.00\">samples = 4</text>\n<text text-anchor=\"middle\" x=\"474.5\" y=\"-111.8\" font-family=\"Times,serif\" font-size=\"14.00\">value = [0, 1, 3]</text>\n<text text-anchor=\"middle\" x=\"474.5\" y=\"-96.8\" font-family=\"Times,serif\" font-size=\"14.00\">class = virginica</text>\n</g>\n<!-- 8&#45;&gt;9 -->\n<g id=\"edge9\" class=\"edge\"><title>8&#45;&gt;9</title>\n<path fill=\"none\" stroke=\"black\" d=\"M475.175,-192.884C475.096,-184.778 475.01,-175.982 474.926,-167.472\"/>\n<polygon fill=\"black\" stroke=\"black\" points=\"478.424,-167.265 474.826,-157.299 471.425,-167.333 478.424,-167.265\"/>\n</g>\n<!-- 12 -->\n<g id=\"node13\" class=\"node\"><title>12</title>\n<polygon fill=\"#8139e5\" stroke=\"black\" points=\"732.5,-149.5 592.5,-149.5 592.5,-96.5 732.5,-96.5 732.5,-149.5\"/>\n<text text-anchor=\"middle\" x=\"662.5\" y=\"-134.3\" font-family=\"Times,serif\" font-size=\"14.00\">samples = 35</text>\n<text text-anchor=\"middle\" x=\"662.5\" y=\"-119.3\" font-family=\"Times,serif\" font-size=\"14.00\">value = [0, 0, 35]</text>\n<text text-anchor=\"middle\" x=\"662.5\" y=\"-104.3\" font-family=\"Times,serif\" font-size=\"14.00\">class = virginica</text>\n</g>\n<!-- 8&#45;&gt;12 -->\n<g id=\"edge12\" class=\"edge\"><title>8&#45;&gt;12</title>\n<path fill=\"none\" stroke=\"black\" d=\"M536.214,-192.884C558.897,-180.511 584.528,-166.53 606.742,-154.413\"/>\n<polygon fill=\"black\" stroke=\"black\" points=\"608.61,-157.381 615.713,-149.52 605.258,-151.236 608.61,-157.381\"/>\n</g>\n<!-- 10 -->\n<g id=\"node11\" class=\"node\"><title>10</title>\n<polygon fill=\"#8139e5\" stroke=\"black\" points=\"528,-53 391,-53 391,-0 528,-0 528,-53\"/>\n<text text-anchor=\"middle\" x=\"459.5\" y=\"-37.8\" font-family=\"Times,serif\" font-size=\"14.00\">samples = 3</text>\n<text text-anchor=\"middle\" x=\"459.5\" y=\"-22.8\" font-family=\"Times,serif\" font-size=\"14.00\">value = [0, 0, 3]</text>\n<text text-anchor=\"middle\" x=\"459.5\" y=\"-7.8\" font-family=\"Times,serif\" font-size=\"14.00\">class = virginica</text>\n</g>\n<!-- 9&#45;&gt;10 -->\n<g id=\"edge10\" class=\"edge\"><title>9&#45;&gt;10</title>\n<path fill=\"none\" stroke=\"black\" d=\"M469.254,-88.9485C467.932,-80.6238 466.508,-71.6509 465.167,-63.2027\"/>\n<polygon fill=\"black\" stroke=\"black\" points=\"468.61,-62.5643 463.585,-53.2367 461.696,-63.6618 468.61,-62.5643\"/>\n</g>\n<!-- 11 -->\n<g id=\"node12\" class=\"node\"><title>11</title>\n<polygon fill=\"#39e581\" stroke=\"black\" points=\"691,-53 546,-53 546,-0 691,-0 691,-53\"/>\n<text text-anchor=\"middle\" x=\"618.5\" y=\"-37.8\" font-family=\"Times,serif\" font-size=\"14.00\">samples = 1</text>\n<text text-anchor=\"middle\" x=\"618.5\" y=\"-22.8\" font-family=\"Times,serif\" font-size=\"14.00\">value = [0, 1, 0]</text>\n<text text-anchor=\"middle\" x=\"618.5\" y=\"-7.8\" font-family=\"Times,serif\" font-size=\"14.00\">class = versicolor</text>\n</g>\n<!-- 9&#45;&gt;11 -->\n<g id=\"edge11\" class=\"edge\"><title>9&#45;&gt;11</title>\n<path fill=\"none\" stroke=\"black\" d=\"M524.864,-88.9485C539.78,-79.1601 556.061,-68.4756 570.803,-58.8015\"/>\n<polygon fill=\"black\" stroke=\"black\" points=\"572.842,-61.6495 579.282,-53.2367 569.001,-55.7971 572.842,-61.6495\"/>\n</g>\n</g>\n</svg>\n"
          },
          "metadata": {
            "tags": []
          }
        }
      ]
    },
    {
      "metadata": {
        "id": "nPlOMCA3Ra0o",
        "colab_type": "text"
      },
      "cell_type": "markdown",
      "source": [
        "Now we will try to increase and decrease the *max_depth* and see if we can further increase the accuracy"
      ]
    },
    {
      "metadata": {
        "id": "8m_49kKJeEbH",
        "colab_type": "code",
        "colab": {}
      },
      "cell_type": "code",
      "source": [
        "my_max_depth = 10 #@param {type:\"slider\", min:1, max:10, step:1}"
      ],
      "execution_count": 0,
      "outputs": []
    },
    {
      "metadata": {
        "id": "w6qdK1_yRZ9E",
        "colab_type": "code",
        "colab": {
          "base_uri": "https://localhost:8080/",
          "height": 119
        },
        "outputId": "d21b015a-2e3a-4b30-d431-94d997b41be6"
      },
      "cell_type": "code",
      "source": [
        "estimator = DecisionTreeClassifier(max_depth=my_max_depth)\n",
        "estimator"
      ],
      "execution_count": 28,
      "outputs": [
        {
          "output_type": "execute_result",
          "data": {
            "text/plain": [
              "DecisionTreeClassifier(class_weight=None, criterion='gini', max_depth=10,\n",
              "            max_features=None, max_leaf_nodes=None,\n",
              "            min_impurity_decrease=0.0, min_impurity_split=None,\n",
              "            min_samples_leaf=1, min_samples_split=2,\n",
              "            min_weight_fraction_leaf=0.0, presort=False, random_state=None,\n",
              "            splitter='best')"
            ]
          },
          "metadata": {
            "tags": []
          },
          "execution_count": 28
        }
      ]
    },
    {
      "metadata": {
        "id": "lFplHjmuRt0M",
        "colab_type": "code",
        "colab": {
          "base_uri": "https://localhost:8080/",
          "height": 119
        },
        "outputId": "852e0dbc-3e6d-4ec2-8821-0a84c3468594"
      },
      "cell_type": "code",
      "source": [
        "estimator.fit(x_train, y_train)"
      ],
      "execution_count": 29,
      "outputs": [
        {
          "output_type": "execute_result",
          "data": {
            "text/plain": [
              "DecisionTreeClassifier(class_weight=None, criterion='gini', max_depth=10,\n",
              "            max_features=None, max_leaf_nodes=None,\n",
              "            min_impurity_decrease=0.0, min_impurity_split=None,\n",
              "            min_samples_leaf=1, min_samples_split=2,\n",
              "            min_weight_fraction_leaf=0.0, presort=False, random_state=None,\n",
              "            splitter='best')"
            ]
          },
          "metadata": {
            "tags": []
          },
          "execution_count": 29
        }
      ]
    },
    {
      "metadata": {
        "id": "2mtL8EJJRzG_",
        "colab_type": "code",
        "colab": {}
      },
      "cell_type": "code",
      "source": [
        "y_predict = estimator.predict(x_test)"
      ],
      "execution_count": 0,
      "outputs": []
    },
    {
      "metadata": {
        "id": "mnmPjMLZSAhT",
        "colab_type": "code",
        "colab": {
          "base_uri": "https://localhost:8080/",
          "height": 34
        },
        "outputId": "f8504e66-6447-4ed8-c781-9e0ce02f073d"
      },
      "cell_type": "code",
      "source": [
        "correct_labels = sum(y_predict == y_test)\n",
        "correct_labels"
      ],
      "execution_count": 31,
      "outputs": [
        {
          "output_type": "execute_result",
          "data": {
            "text/plain": [
              "37"
            ]
          },
          "metadata": {
            "tags": []
          },
          "execution_count": 31
        }
      ]
    },
    {
      "metadata": {
        "id": "INyBrHlBSX1k",
        "colab_type": "code",
        "colab": {
          "base_uri": "https://localhost:8080/",
          "height": 34
        },
        "outputId": "22e29392-9a43-4156-9d7b-a9e052e31810"
      },
      "cell_type": "code",
      "source": [
        "print(\"Accuracy:\", correct_labels/len(y_predict))"
      ],
      "execution_count": 32,
      "outputs": [
        {
          "output_type": "stream",
          "text": [
            "Accuracy: 0.9736842105263158\n"
          ],
          "name": "stdout"
        }
      ]
    },
    {
      "metadata": {
        "id": "YU_UDtIaSe3w",
        "colab_type": "code",
        "colab": {}
      },
      "cell_type": "code",
      "source": [
        "from sklearn.tree import export_graphviz\n",
        "export_graphviz(estimator, out_file=\"tree.dot\", class_names=iris.target_names,\n",
        "                feature_names=iris.feature_names, impurity=False, filled=True)"
      ],
      "execution_count": 0,
      "outputs": []
    },
    {
      "metadata": {
        "id": "-PGBDooCSfcn",
        "colab_type": "code",
        "colab": {
          "base_uri": "https://localhost:8080/",
          "height": 677
        },
        "outputId": "594ce8f1-82ba-4a7e-89dd-464ca30ff780"
      },
      "cell_type": "code",
      "source": [
        "import graphviz as gv\n",
        "\n",
        "with open(\"tree.dot\") as f:\n",
        "  dot_graph = f.read()\n",
        "display(gv.Source(dot_graph))"
      ],
      "execution_count": 34,
      "outputs": [
        {
          "output_type": "display_data",
          "data": {
            "text/plain": [
              "<graphviz.files.Source at 0x7f210feeb9b0>"
            ],
            "image/svg+xml": "<?xml version=\"1.0\" encoding=\"UTF-8\" standalone=\"no\"?>\n<!DOCTYPE svg PUBLIC \"-//W3C//DTD SVG 1.1//EN\"\n \"http://www.w3.org/Graphics/SVG/1.1/DTD/svg11.dtd\">\n<!-- Generated by graphviz version 2.38.0 (20140413.2041)\n -->\n<!-- Title: Tree Pages: 1 -->\n<svg width=\"738pt\" height=\"477pt\"\n viewBox=\"0.00 0.00 737.50 477.00\" xmlns=\"http://www.w3.org/2000/svg\" xmlns:xlink=\"http://www.w3.org/1999/xlink\">\n<g id=\"graph0\" class=\"graph\" transform=\"scale(1 1) rotate(0) translate(4 473)\">\n<title>Tree</title>\n<polygon fill=\"white\" stroke=\"none\" points=\"-4,4 -4,-473 733.5,-473 733.5,4 -4,4\"/>\n<!-- 0 -->\n<g id=\"node1\" class=\"node\"><title>0</title>\n<polygon fill=\"#8139e5\" fill-opacity=\"0.054902\" stroke=\"black\" points=\"364.5,-469 174.5,-469 174.5,-401 364.5,-401 364.5,-469\"/>\n<text text-anchor=\"middle\" x=\"269.5\" y=\"-453.8\" font-family=\"Times,serif\" font-size=\"14.00\">petal width (cm) &lt;= 0.8</text>\n<text text-anchor=\"middle\" x=\"269.5\" y=\"-438.8\" font-family=\"Times,serif\" font-size=\"14.00\">samples = 112</text>\n<text text-anchor=\"middle\" x=\"269.5\" y=\"-423.8\" font-family=\"Times,serif\" font-size=\"14.00\">value = [37, 34, 41]</text>\n<text text-anchor=\"middle\" x=\"269.5\" y=\"-408.8\" font-family=\"Times,serif\" font-size=\"14.00\">class = virginica</text>\n</g>\n<!-- 1 -->\n<g id=\"node2\" class=\"node\"><title>1</title>\n<polygon fill=\"#e58139\" stroke=\"black\" points=\"244.5,-357.5 104.5,-357.5 104.5,-304.5 244.5,-304.5 244.5,-357.5\"/>\n<text text-anchor=\"middle\" x=\"174.5\" y=\"-342.3\" font-family=\"Times,serif\" font-size=\"14.00\">samples = 37</text>\n<text text-anchor=\"middle\" x=\"174.5\" y=\"-327.3\" font-family=\"Times,serif\" font-size=\"14.00\">value = [37, 0, 0]</text>\n<text text-anchor=\"middle\" x=\"174.5\" y=\"-312.3\" font-family=\"Times,serif\" font-size=\"14.00\">class = setosa</text>\n</g>\n<!-- 0&#45;&gt;1 -->\n<g id=\"edge1\" class=\"edge\"><title>0&#45;&gt;1</title>\n<path fill=\"none\" stroke=\"black\" d=\"M238.656,-400.884C227.901,-389.336 215.841,-376.387 205.105,-364.86\"/>\n<polygon fill=\"black\" stroke=\"black\" points=\"207.645,-362.452 198.269,-357.52 202.523,-367.223 207.645,-362.452\"/>\n<text text-anchor=\"middle\" x=\"197.381\" y=\"-378.804\" font-family=\"Times,serif\" font-size=\"14.00\">True</text>\n</g>\n<!-- 2 -->\n<g id=\"node3\" class=\"node\"><title>2</title>\n<polygon fill=\"#8139e5\" fill-opacity=\"0.172549\" stroke=\"black\" points=\"466.5,-365 262.5,-365 262.5,-297 466.5,-297 466.5,-365\"/>\n<text text-anchor=\"middle\" x=\"364.5\" y=\"-349.8\" font-family=\"Times,serif\" font-size=\"14.00\">petal length (cm) &lt;= 4.95</text>\n<text text-anchor=\"middle\" x=\"364.5\" y=\"-334.8\" font-family=\"Times,serif\" font-size=\"14.00\">samples = 75</text>\n<text text-anchor=\"middle\" x=\"364.5\" y=\"-319.8\" font-family=\"Times,serif\" font-size=\"14.00\">value = [0, 34, 41]</text>\n<text text-anchor=\"middle\" x=\"364.5\" y=\"-304.8\" font-family=\"Times,serif\" font-size=\"14.00\">class = virginica</text>\n</g>\n<!-- 0&#45;&gt;2 -->\n<g id=\"edge2\" class=\"edge\"><title>0&#45;&gt;2</title>\n<path fill=\"none\" stroke=\"black\" d=\"M300.344,-400.884C308.723,-391.887 317.894,-382.041 326.613,-372.678\"/>\n<polygon fill=\"black\" stroke=\"black\" points=\"329.232,-375.003 333.486,-365.299 324.109,-370.232 329.232,-375.003\"/>\n<text text-anchor=\"middle\" x=\"334.374\" y=\"-386.584\" font-family=\"Times,serif\" font-size=\"14.00\">False</text>\n</g>\n<!-- 3 -->\n<g id=\"node4\" class=\"node\"><title>3</title>\n<polygon fill=\"#39e581\" fill-opacity=\"0.909804\" stroke=\"black\" points=\"354,-261 155,-261 155,-193 354,-193 354,-261\"/>\n<text text-anchor=\"middle\" x=\"254.5\" y=\"-245.8\" font-family=\"Times,serif\" font-size=\"14.00\">petal width (cm) &lt;= 1.65</text>\n<text text-anchor=\"middle\" x=\"254.5\" y=\"-230.8\" font-family=\"Times,serif\" font-size=\"14.00\">samples = 36</text>\n<text text-anchor=\"middle\" x=\"254.5\" y=\"-215.8\" font-family=\"Times,serif\" font-size=\"14.00\">value = [0, 33, 3]</text>\n<text text-anchor=\"middle\" x=\"254.5\" y=\"-200.8\" font-family=\"Times,serif\" font-size=\"14.00\">class = versicolor</text>\n</g>\n<!-- 2&#45;&gt;3 -->\n<g id=\"edge3\" class=\"edge\"><title>2&#45;&gt;3</title>\n<path fill=\"none\" stroke=\"black\" d=\"M328.786,-296.884C318.892,-287.709 308.044,-277.65 297.77,-268.123\"/>\n<polygon fill=\"black\" stroke=\"black\" points=\"300.124,-265.532 290.411,-261.299 295.364,-270.665 300.124,-265.532\"/>\n</g>\n<!-- 8 -->\n<g id=\"node9\" class=\"node\"><title>8</title>\n<polygon fill=\"#8139e5\" fill-opacity=\"0.972549\" stroke=\"black\" points=\"576.5,-261 372.5,-261 372.5,-193 576.5,-193 576.5,-261\"/>\n<text text-anchor=\"middle\" x=\"474.5\" y=\"-245.8\" font-family=\"Times,serif\" font-size=\"14.00\">petal length (cm) &lt;= 5.05</text>\n<text text-anchor=\"middle\" x=\"474.5\" y=\"-230.8\" font-family=\"Times,serif\" font-size=\"14.00\">samples = 39</text>\n<text text-anchor=\"middle\" x=\"474.5\" y=\"-215.8\" font-family=\"Times,serif\" font-size=\"14.00\">value = [0, 1, 38]</text>\n<text text-anchor=\"middle\" x=\"474.5\" y=\"-200.8\" font-family=\"Times,serif\" font-size=\"14.00\">class = virginica</text>\n</g>\n<!-- 2&#45;&gt;8 -->\n<g id=\"edge8\" class=\"edge\"><title>2&#45;&gt;8</title>\n<path fill=\"none\" stroke=\"black\" d=\"M400.214,-296.884C410.108,-287.709 420.956,-277.65 431.23,-268.123\"/>\n<polygon fill=\"black\" stroke=\"black\" points=\"433.636,-270.665 438.589,-261.299 428.876,-265.532 433.636,-270.665\"/>\n</g>\n<!-- 4 -->\n<g id=\"node5\" class=\"node\"><title>4</title>\n<polygon fill=\"#39e581\" stroke=\"black\" points=\"145,-149.5 0,-149.5 0,-96.5 145,-96.5 145,-149.5\"/>\n<text text-anchor=\"middle\" x=\"72.5\" y=\"-134.3\" font-family=\"Times,serif\" font-size=\"14.00\">samples = 32</text>\n<text text-anchor=\"middle\" x=\"72.5\" y=\"-119.3\" font-family=\"Times,serif\" font-size=\"14.00\">value = [0, 32, 0]</text>\n<text text-anchor=\"middle\" x=\"72.5\" y=\"-104.3\" font-family=\"Times,serif\" font-size=\"14.00\">class = versicolor</text>\n</g>\n<!-- 3&#45;&gt;4 -->\n<g id=\"edge4\" class=\"edge\"><title>3&#45;&gt;4</title>\n<path fill=\"none\" stroke=\"black\" d=\"M195.41,-192.884C173.333,-180.511 148.388,-166.53 126.767,-154.413\"/>\n<polygon fill=\"black\" stroke=\"black\" points=\"128.47,-151.356 118.036,-149.52 125.048,-157.462 128.47,-151.356\"/>\n</g>\n<!-- 5 -->\n<g id=\"node6\" class=\"node\"><title>5</title>\n<polygon fill=\"#8139e5\" fill-opacity=\"0.666667\" stroke=\"black\" points=\"354,-157 163,-157 163,-89 354,-89 354,-157\"/>\n<text text-anchor=\"middle\" x=\"258.5\" y=\"-141.8\" font-family=\"Times,serif\" font-size=\"14.00\">sepal width (cm) &lt;= 3.1</text>\n<text text-anchor=\"middle\" x=\"258.5\" y=\"-126.8\" font-family=\"Times,serif\" font-size=\"14.00\">samples = 4</text>\n<text text-anchor=\"middle\" x=\"258.5\" y=\"-111.8\" font-family=\"Times,serif\" font-size=\"14.00\">value = [0, 1, 3]</text>\n<text text-anchor=\"middle\" x=\"258.5\" y=\"-96.8\" font-family=\"Times,serif\" font-size=\"14.00\">class = virginica</text>\n</g>\n<!-- 3&#45;&gt;5 -->\n<g id=\"edge5\" class=\"edge\"><title>3&#45;&gt;5</title>\n<path fill=\"none\" stroke=\"black\" d=\"M255.799,-192.884C256.117,-184.778 256.461,-175.982 256.795,-167.472\"/>\n<polygon fill=\"black\" stroke=\"black\" points=\"260.3,-167.429 257.194,-157.299 253.305,-167.155 260.3,-167.429\"/>\n</g>\n<!-- 6 -->\n<g id=\"node7\" class=\"node\"><title>6</title>\n<polygon fill=\"#8139e5\" stroke=\"black\" points=\"182,-53 45,-53 45,-0 182,-0 182,-53\"/>\n<text text-anchor=\"middle\" x=\"113.5\" y=\"-37.8\" font-family=\"Times,serif\" font-size=\"14.00\">samples = 3</text>\n<text text-anchor=\"middle\" x=\"113.5\" y=\"-22.8\" font-family=\"Times,serif\" font-size=\"14.00\">value = [0, 0, 3]</text>\n<text text-anchor=\"middle\" x=\"113.5\" y=\"-7.8\" font-family=\"Times,serif\" font-size=\"14.00\">class = virginica</text>\n</g>\n<!-- 5&#45;&gt;6 -->\n<g id=\"edge6\" class=\"edge\"><title>5&#45;&gt;6</title>\n<path fill=\"none\" stroke=\"black\" d=\"M207.786,-88.9485C192.767,-79.1601 176.373,-68.4756 161.529,-58.8015\"/>\n<polygon fill=\"black\" stroke=\"black\" points=\"163.279,-55.7645 152.99,-53.2367 159.457,-61.629 163.279,-55.7645\"/>\n</g>\n<!-- 7 -->\n<g id=\"node8\" class=\"node\"><title>7</title>\n<polygon fill=\"#39e581\" stroke=\"black\" points=\"345,-53 200,-53 200,-0 345,-0 345,-53\"/>\n<text text-anchor=\"middle\" x=\"272.5\" y=\"-37.8\" font-family=\"Times,serif\" font-size=\"14.00\">samples = 1</text>\n<text text-anchor=\"middle\" x=\"272.5\" y=\"-22.8\" font-family=\"Times,serif\" font-size=\"14.00\">value = [0, 1, 0]</text>\n<text text-anchor=\"middle\" x=\"272.5\" y=\"-7.8\" font-family=\"Times,serif\" font-size=\"14.00\">class = versicolor</text>\n</g>\n<!-- 5&#45;&gt;7 -->\n<g id=\"edge7\" class=\"edge\"><title>5&#45;&gt;7</title>\n<path fill=\"none\" stroke=\"black\" d=\"M263.397,-88.9485C264.63,-80.6238 265.959,-71.6509 267.211,-63.2027\"/>\n<polygon fill=\"black\" stroke=\"black\" points=\"270.684,-63.6417 268.687,-53.2367 263.759,-62.6158 270.684,-63.6417\"/>\n</g>\n<!-- 9 -->\n<g id=\"node10\" class=\"node\"><title>9</title>\n<polygon fill=\"#8139e5\" fill-opacity=\"0.666667\" stroke=\"black\" points=\"571,-157 374,-157 374,-89 571,-89 571,-157\"/>\n<text text-anchor=\"middle\" x=\"472.5\" y=\"-141.8\" font-family=\"Times,serif\" font-size=\"14.00\">sepal length (cm) &lt;= 6.5</text>\n<text text-anchor=\"middle\" x=\"472.5\" y=\"-126.8\" font-family=\"Times,serif\" font-size=\"14.00\">samples = 4</text>\n<text text-anchor=\"middle\" x=\"472.5\" y=\"-111.8\" font-family=\"Times,serif\" font-size=\"14.00\">value = [0, 1, 3]</text>\n<text text-anchor=\"middle\" x=\"472.5\" y=\"-96.8\" font-family=\"Times,serif\" font-size=\"14.00\">class = virginica</text>\n</g>\n<!-- 8&#45;&gt;9 -->\n<g id=\"edge9\" class=\"edge\"><title>8&#45;&gt;9</title>\n<path fill=\"none\" stroke=\"black\" d=\"M473.851,-192.884C473.692,-184.778 473.519,-175.982 473.352,-167.472\"/>\n<polygon fill=\"black\" stroke=\"black\" points=\"476.848,-167.229 473.153,-157.299 469.85,-167.366 476.848,-167.229\"/>\n</g>\n<!-- 12 -->\n<g id=\"node13\" class=\"node\"><title>12</title>\n<polygon fill=\"#8139e5\" stroke=\"black\" points=\"729.5,-149.5 589.5,-149.5 589.5,-96.5 729.5,-96.5 729.5,-149.5\"/>\n<text text-anchor=\"middle\" x=\"659.5\" y=\"-134.3\" font-family=\"Times,serif\" font-size=\"14.00\">samples = 35</text>\n<text text-anchor=\"middle\" x=\"659.5\" y=\"-119.3\" font-family=\"Times,serif\" font-size=\"14.00\">value = [0, 0, 35]</text>\n<text text-anchor=\"middle\" x=\"659.5\" y=\"-104.3\" font-family=\"Times,serif\" font-size=\"14.00\">class = virginica</text>\n</g>\n<!-- 8&#45;&gt;12 -->\n<g id=\"edge12\" class=\"edge\"><title>8&#45;&gt;12</title>\n<path fill=\"none\" stroke=\"black\" d=\"M534.564,-192.884C557.005,-180.511 582.361,-166.53 604.339,-154.413\"/>\n<polygon fill=\"black\" stroke=\"black\" points=\"606.147,-157.413 613.214,-149.52 602.767,-151.283 606.147,-157.413\"/>\n</g>\n<!-- 10 -->\n<g id=\"node11\" class=\"node\"><title>10</title>\n<polygon fill=\"#8139e5\" stroke=\"black\" points=\"527,-53 390,-53 390,-0 527,-0 527,-53\"/>\n<text text-anchor=\"middle\" x=\"458.5\" y=\"-37.8\" font-family=\"Times,serif\" font-size=\"14.00\">samples = 3</text>\n<text text-anchor=\"middle\" x=\"458.5\" y=\"-22.8\" font-family=\"Times,serif\" font-size=\"14.00\">value = [0, 0, 3]</text>\n<text text-anchor=\"middle\" x=\"458.5\" y=\"-7.8\" font-family=\"Times,serif\" font-size=\"14.00\">class = virginica</text>\n</g>\n<!-- 9&#45;&gt;10 -->\n<g id=\"edge10\" class=\"edge\"><title>9&#45;&gt;10</title>\n<path fill=\"none\" stroke=\"black\" d=\"M467.603,-88.9485C466.37,-80.6238 465.041,-71.6509 463.789,-63.2027\"/>\n<polygon fill=\"black\" stroke=\"black\" points=\"467.241,-62.6158 462.313,-53.2367 460.316,-63.6417 467.241,-62.6158\"/>\n</g>\n<!-- 11 -->\n<g id=\"node12\" class=\"node\"><title>11</title>\n<polygon fill=\"#39e581\" stroke=\"black\" points=\"690,-53 545,-53 545,-0 690,-0 690,-53\"/>\n<text text-anchor=\"middle\" x=\"617.5\" y=\"-37.8\" font-family=\"Times,serif\" font-size=\"14.00\">samples = 1</text>\n<text text-anchor=\"middle\" x=\"617.5\" y=\"-22.8\" font-family=\"Times,serif\" font-size=\"14.00\">value = [0, 1, 0]</text>\n<text text-anchor=\"middle\" x=\"617.5\" y=\"-7.8\" font-family=\"Times,serif\" font-size=\"14.00\">class = versicolor</text>\n</g>\n<!-- 9&#45;&gt;11 -->\n<g id=\"edge11\" class=\"edge\"><title>9&#45;&gt;11</title>\n<path fill=\"none\" stroke=\"black\" d=\"M523.214,-88.9485C538.233,-79.1601 554.627,-68.4756 569.471,-58.8015\"/>\n<polygon fill=\"black\" stroke=\"black\" points=\"571.543,-61.629 578.01,-53.2367 567.721,-55.7645 571.543,-61.629\"/>\n</g>\n</g>\n</svg>\n"
          },
          "metadata": {
            "tags": []
          }
        }
      ]
    },
    {
      "metadata": {
        "id": "CGf9fdlGf64v",
        "colab_type": "text"
      },
      "cell_type": "markdown",
      "source": [
        "After playing with the max_depth parameter, we can see that after a max depth of 4, our model always gives the same results. We can conclude that making our model's decision tree more complex doesn't make it more accurate. Inorder to get a better accuracy we must use another type of model.\n"
      ]
    }
  ]
}